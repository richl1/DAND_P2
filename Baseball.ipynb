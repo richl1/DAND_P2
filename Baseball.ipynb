{
 "cells": [
  {
   "cell_type": "markdown",
   "metadata": {},
   "source": [
    "## DAND P2 INVESTIGATE A DATASET##\n",
    "\n",
    "*** By Richard Lorenzo***\n",
    "\n",
    "*** Dataset Analyzed is Sean Lahman Baseball data from 1871 to 2014.***\n",
    "\n",
    "The Data Source was downloaded from www.seanlahman.com.\n",
    "By Richard Lorenzo\n",
    "\n",
    "**Analysis -- PART 1: Characteristics of the Best Players**\n",
    "\n",
    "The Sean Lahman baseball data is a complete record of all players and statistics.  I will compare a sample of the best players to all players to indentify which characteristics are statistically significant and which are not.  I define the best players as those who have won awards in their playing career.  I will confirm the validity of the definition by comparing the years played for this sample to the overall population.\n",
    "\n",
    "*Question for investigation:*  The dataset includes basic player information including birthdate, height, weight, L/R Handedness, debut date, and final game date.  Which of these characteristics are stastically significant different for the \"best players\" as compared to the total population?\n",
    "\n",
    "\n",
    "** Analysis -- PART 2: Pitching vs. Batting**\n",
    "\n",
    "Baseball is fundementally a conflict between pitching and hitting.  I measured the correlation between these statisics over time.  I selected ERA (Earned Run Average) to represent the pitching metric, and \"Runs\" / \"At bats\" to represent batting.  I would not expect a 100% correlation because fielding errors are not included in ERA.\n",
    "\n",
    "*Question for investigation:* What is the correlation between ERA and (\"Runs / At Bat\") over time?\n",
    "\n",
    "***What I did to investigate these questions?***\n",
    "1. I imported the .csv files into Pandas dataframes\n",
    "2. Data wrangling: I dropped players with missing key characteristics, and I cleansed the data to correct different year formats\n",
    "3. I derived years played from the debut year and final year\n",
    "4. I scaled hitting and throwing handedness to numerical values.\n",
    "5. I mapped the players who won awards in their careers\n",
    "6. I used the Pandas describe function to compare the sample of Players who won awards to the whole population of players.\n",
    "7. Using T tests, I proposed a null Hypothosis for each variable and rejected, or failed to reject them.\n",
    "8. I analyzed histograms of the following distributions - Years Played (all vs won-Awards), Birth Year (all vs won-Awards)\n",
    "9. I imported the Pitching and Batting data and grouped the statistics by year.\n",
    "10. I visually looked for correlations with a scatter plot which showed different correlations over time.  I calculated Pearson's r to measure the coorelation.\n",
    "11. I analyzed the Pitching-Hitting correlations over different years to increase each correlation and showed the associated scatter plots.\n",
    "\n",
    "*** Data Wrangling***  I imported the csv files, droped players with incomplete key charactistics, and corrected different year formats\n",
    "\n",
    "*** Summary statistics and plots *** included ate the end of the notebook\n",
    "\n",
    "*** Webisites and sources used ***\n",
    "1. Udacity DAND material\n",
    "2. v19.2 Pandas documentation\n",
    "3. Matplotlib documentation\n",
    "4. Miscellaneous Stackoverflow posts\n",
    "\n"
   ]
  },
  {
   "cell_type": "code",
   "execution_count": 44,
   "metadata": {
    "collapsed": false
   },
   "outputs": [],
   "source": [
    "%matplotlib inline\n",
    "import numpy as np\n",
    "import pandas as pd\n",
    "import matplotlib.pyplot as plt\n",
    "import matplotlib.cm as cm\n",
    "import seaborn as sns\n",
    "from scipy import stats\n",
    "from IPython.display import display"
   ]
  },
  {
   "cell_type": "code",
   "execution_count": 45,
   "metadata": {
    "collapsed": false
   },
   "outputs": [
    {
     "name": "stdout",
     "output_type": "stream",
     "text": [
      "\n",
      "The Null Hypothsis: Birth Year for players with awards = all players\n",
      "alpha =  0.001\n",
      "The One Sample, two-Sided T-test =  6.7118705759\n",
      "The Probability is:  2.85834469719e-11\n",
      "The Null Hypothosis IS Rejected\n",
      "\n",
      "The Null Hypothsis: Birth Month for players with awards = all players\n",
      "alpha =  0.001\n",
      "The One Sample, two-Sided T-test =  0.249029144685\n",
      "The Probability is:  0.803377454142\n",
      "The Null Hypthosis CANNOT be rejected\n",
      "\n",
      "The Null Hypothsis: weight for players with awards = all players\n",
      "alpha =  0.001\n",
      "The One Sample, two-Sided T-test =  6.02560806132\n",
      "The Probability is:  2.18875216234e-09\n",
      "The Null Hypothosis IS Rejected\n",
      "\n",
      "The Null Hypothsis: height for players with awards = all players\n",
      "alpha =  0.001\n",
      "The One Sample, two-Sided T-test =  4.56626790378\n",
      "The Probability is:  5.43384975506e-06\n",
      "The Null Hypothosis IS Rejected\n",
      "\n",
      "The Null Hypothsis: bats handedness for players with awards = all players\n",
      "alpha =  0.001\n",
      "The One Sample, two-Sided T-test =  -1.105344734\n",
      "The Probability is:  0.269214136369\n",
      "The Null Hypthosis CANNOT be rejected\n",
      "\n",
      "The Null Hypothsis: throws handedness for players with awards = all players\n",
      "alpha =  0.001\n",
      "The One Sample, two-Sided T-test =  1.38884471067\n",
      "The Probability is:  0.16511712702\n",
      "The Null Hypthosis CANNOT be rejected\n",
      "\n",
      "The Null Hypothsis: Years Played for players with awards = all players\n",
      "alpha =  0.001\n",
      "The One Sample, two-Sided T-test =  63.8248084842\n",
      "The Probability is:  0.0\n",
      "The Null Hypothosis IS Rejected\n"
     ]
    }
   ],
   "source": [
    "# DataWrangling\n",
    "# Read data, drop incomplete rows, and clean-up formats\n",
    "df_master = pd.read_csv(\"master.csv\", index_col='playerID')\n",
    "#\n",
    "# Select the features we want to look for correlation\n",
    "# Filter Data for players with missing information\n",
    "df_master1 = df_master[['birthYear', 'birthMonth', 'weight', 'height',\\\n",
    "           'bats', 'throws', 'debut', 'finalGame' ]].dropna(axis =0)\n",
    "# Clean-Up the dates into Debut Year and Final Game Year\n",
    "def clean_date(s): \n",
    "    if s[:3].isdigit():\n",
    "        return int(s[:4])\n",
    "    else:\n",
    "        l = len(s)\n",
    "        return int(s[(l-4):l])\n",
    "\n",
    "df_master1['debut_yr'] = df_master1['debut'].apply(clean_date)\n",
    "df_master1['final_yr'] = df_master1['finalGame'].apply(clean_date)\n",
    "################################\n",
    "# Refine the Independent variables.\n",
    "#\n",
    "# debut_yr and final_yr are correlated with birthYear.  The more interesting variable is years played.\n",
    "#\n",
    "# Also, let's convert country, bats, and throws to a numeric scale to simplify the analysis\n",
    "# - bats/throws: R = +1, B = 0, L = -1\n",
    "################################\n",
    "df_master1['yearsPlayed'] = df_master1['final_yr'] - df_master1['debut_yr']\n",
    "df_master1['bats_num'] = df_master1['bats'].apply(lambda s: -1 if s=='L' else 1 if s=='R' else 0)\n",
    "df_master1['throws_num'] = df_master1['throws'].apply(lambda s: -1 if s=='L' else 1)\n",
    "################################\n",
    "# Next we identify the players that have won awards vs. no awards.\n",
    "#\n",
    "# Import the awards Dataframe, and join it to the master Dataframe\n",
    "################################\n",
    "df_awards = pd.read_csv(\"AwardsPlayers.csv\", index_col='playerID')\n",
    "# Since we want to look as any awards, add a wonAward boolean\n",
    "df_awards['wonAward'] = True\n",
    "\n",
    "# Join the Dataframes and create a new Dataframe with just the key information\n",
    "df_master2 = df_master1.join(df_awards['wonAward'])\\\n",
    "                .drop_duplicates()[['birthYear', 'birthMonth', 'weight',\\\n",
    "                                    'height', 'bats_num', 'throws_num', 'yearsPlayed', 'wonAward']]\n",
    "# Create a 3D Pandas Panel to compare the .describe() stats\n",
    "df_won = df_master2[(df_master2['wonAward'] == True)]\n",
    "df_all = df_master2\n",
    "\n",
    "d = {\"won\" : df_won.describe(),\n",
    "    \"all\" : df_master2.describe()}\n",
    "panel = pd.Panel.from_dict(d , orient='minor')\n",
    "#\n",
    "# Perform one sample, two-tailed, Hypothesis Testing\n",
    "#\n",
    "null_Hypthosis = {'birthYear' : 'Birth Year for players with awards = all players',\n",
    "                 'birthMonth' : 'Birth Month for players with awards = all players',\n",
    "                 'weight' : 'weight for players with awards = all players',\n",
    "                 'height' : 'height for players with awards = all players',\n",
    "                 'bats_num' : 'bats handedness for players with awards = all players',\n",
    "                 'throws_num' : 'throws handedness for players with awards = all players',\n",
    "                 'yearsPlayed' : 'Years Played for players with awards = all players'}\n",
    "alpha = 0.001\n",
    "index = ['birthYear', 'birthMonth', 'weight', 'height','bats_num','throws_num', 'yearsPlayed' ]\n",
    "data = []\n",
    "for i, idx in enumerate(index):\n",
    "    print\n",
    "    print \"The Null Hypothsis: \" + null_Hypthosis[idx]\n",
    "    print \"alpha = \", alpha\n",
    "    t = stats.ttest_1samp(df_won[idx].values, df_all[idx].describe()['mean'])\n",
    "    print \"The One Sample, two-Sided T-test = \", t[0]\n",
    "    print \"The Probability is: \", t[1]\n",
    "    if t[1] < alpha:\n",
    "        s = \"The Null Hypothosis IS Rejected\"\n",
    "    else:\n",
    "        s = \"The Null Hypthosis CANNOT be rejected\"\n",
    "    print s    \n",
    "    data.append([null_Hypthosis[idx], t[0], t[1], s])\n",
    "\n",
    "df_tTests = pd.DataFrame(data, index = index)\n",
    "df_tTests.columns = ['Null Hypothesis', 'T-Test', 'Probability' , 'Result']"
   ]
  },
  {
   "cell_type": "markdown",
   "metadata": {},
   "source": [
    "## PART 1: Characteristics of the Best Players##\n",
    "\n",
    "## RESULTS: Hypothesis Testing ##\n",
    "\n",
    "I compared the characteristics of the players who have won awards to the all players.\n",
    "\n",
    "The above cell shows the detailed results of the one sample, two-tailed, Hypothesis tests performed on each of 7 characteristics with an ultra conservative **alpha = 0.001**.\n",
    "\n",
    "From this analysis, the evidence supports that Players who have won awards are:\n",
    "- **Born Later** (possible due to awards/players increasing over time)\n",
    "- **Bigger** (weigh more and are taller)  Although significant, it is import that this does not imply causation.\n",
    "- **Played Longer** (It is expected that better players play longer.  Histograms are shown next)\n",
    "\n",
    "Although Players with awards are slightly more left-handed at batting and throwing, the p-values are only 0.262\t0.165 respectively and are not statistically significant.\n",
    "\n",
    "Birth Month is also consistent between players with awards to all players.  (I included this analysis to because there are studies showing a link in birth month for Canadian hockey players due to league cut-offs in childrens leagues.  This is not supported for Baseball players.)\n",
    "\n",
    "***The following cell shows the summarized data:***"
   ]
  },
  {
   "cell_type": "code",
   "execution_count": 46,
   "metadata": {
    "collapsed": false
   },
   "outputs": [
    {
     "data": {
      "text/html": [
       "<div style=\"max-height:1000px;max-width:1500px;overflow:auto;\">\n",
       "<table border=\"1\" class=\"dataframe\">\n",
       "  <thead>\n",
       "    <tr style=\"text-align: right;\">\n",
       "      <th></th>\n",
       "      <th></th>\n",
       "      <th>birthYear</th>\n",
       "      <th>birthMonth</th>\n",
       "      <th>weight</th>\n",
       "      <th>height</th>\n",
       "      <th>bats_num</th>\n",
       "      <th>throws_num</th>\n",
       "      <th>yearsPlayed</th>\n",
       "    </tr>\n",
       "    <tr>\n",
       "      <th>major</th>\n",
       "      <th>minor</th>\n",
       "      <th></th>\n",
       "      <th></th>\n",
       "      <th></th>\n",
       "      <th></th>\n",
       "      <th></th>\n",
       "      <th></th>\n",
       "      <th></th>\n",
       "    </tr>\n",
       "  </thead>\n",
       "  <tbody>\n",
       "    <tr>\n",
       "      <th rowspan=\"2\" valign=\"top\">count</th>\n",
       "      <th>all</th>\n",
       "      <td> 16970.000000</td>\n",
       "      <td> 16970.000000</td>\n",
       "      <td> 16970.000000</td>\n",
       "      <td> 16970.000000</td>\n",
       "      <td> 16970.000000</td>\n",
       "      <td> 16970.000000</td>\n",
       "      <td> 16970.000000</td>\n",
       "    </tr>\n",
       "    <tr>\n",
       "      <th>won</th>\n",
       "      <td>  1305.000000</td>\n",
       "      <td>  1305.000000</td>\n",
       "      <td>  1305.000000</td>\n",
       "      <td>  1305.000000</td>\n",
       "      <td>  1305.000000</td>\n",
       "      <td>  1305.000000</td>\n",
       "      <td>  1305.000000</td>\n",
       "    </tr>\n",
       "    <tr>\n",
       "      <th rowspan=\"2\" valign=\"top\">mean</th>\n",
       "      <th>all</th>\n",
       "      <td>  1935.160695</td>\n",
       "      <td>     6.634119</td>\n",
       "      <td>   186.299823</td>\n",
       "      <td>    72.353565</td>\n",
       "      <td>     0.379788</td>\n",
       "      <td>     0.597643</td>\n",
       "      <td>     5.008898</td>\n",
       "    </tr>\n",
       "    <tr>\n",
       "      <th>won</th>\n",
       "      <td>  1941.071264</td>\n",
       "      <td>     6.657471</td>\n",
       "      <td>   189.891188</td>\n",
       "      <td>    72.652107</td>\n",
       "      <td>     0.352490</td>\n",
       "      <td>     0.627586</td>\n",
       "      <td>    13.173180</td>\n",
       "    </tr>\n",
       "    <tr>\n",
       "      <th rowspan=\"2\" valign=\"top\">std</th>\n",
       "      <th>all</th>\n",
       "      <td>    37.848612</td>\n",
       "      <td>     3.463925</td>\n",
       "      <td>    20.829660</td>\n",
       "      <td>     2.548979</td>\n",
       "      <td>     0.888546</td>\n",
       "      <td>     0.801786</td>\n",
       "      <td>     5.076965</td>\n",
       "    </tr>\n",
       "    <tr>\n",
       "      <th>won</th>\n",
       "      <td>    31.812000</td>\n",
       "      <td>     3.387532</td>\n",
       "      <td>    21.530983</td>\n",
       "      <td>     2.361835</td>\n",
       "      <td>     0.892133</td>\n",
       "      <td>     0.778846</td>\n",
       "      <td>     4.620976</td>\n",
       "    </tr>\n",
       "    <tr>\n",
       "      <th rowspan=\"2\" valign=\"top\">min</th>\n",
       "      <th>all</th>\n",
       "      <td>  1835.000000</td>\n",
       "      <td>     1.000000</td>\n",
       "      <td>    65.000000</td>\n",
       "      <td>    43.000000</td>\n",
       "      <td>    -1.000000</td>\n",
       "      <td>    -1.000000</td>\n",
       "      <td>     0.000000</td>\n",
       "    </tr>\n",
       "    <tr>\n",
       "      <th>won</th>\n",
       "      <td>  1854.000000</td>\n",
       "      <td>     1.000000</td>\n",
       "      <td>   125.000000</td>\n",
       "      <td>    65.000000</td>\n",
       "      <td>    -1.000000</td>\n",
       "      <td>    -1.000000</td>\n",
       "      <td>     0.000000</td>\n",
       "    </tr>\n",
       "    <tr>\n",
       "      <th rowspan=\"2\" valign=\"top\">25%</th>\n",
       "      <th>all</th>\n",
       "      <td>  1902.000000</td>\n",
       "      <td>     4.000000</td>\n",
       "      <td>   170.000000</td>\n",
       "      <td>    71.000000</td>\n",
       "      <td>    -1.000000</td>\n",
       "      <td>     1.000000</td>\n",
       "      <td>     1.000000</td>\n",
       "    </tr>\n",
       "    <tr>\n",
       "      <th>won</th>\n",
       "      <td>  1916.000000</td>\n",
       "      <td>     4.000000</td>\n",
       "      <td>   175.000000</td>\n",
       "      <td>    71.000000</td>\n",
       "      <td>    -1.000000</td>\n",
       "      <td>     1.000000</td>\n",
       "      <td>    10.000000</td>\n",
       "    </tr>\n",
       "    <tr>\n",
       "      <th rowspan=\"2\" valign=\"top\">50%</th>\n",
       "      <th>all</th>\n",
       "      <td>  1941.000000</td>\n",
       "      <td>     7.000000</td>\n",
       "      <td>   185.000000</td>\n",
       "      <td>    72.000000</td>\n",
       "      <td>     1.000000</td>\n",
       "      <td>     1.000000</td>\n",
       "      <td>     4.000000</td>\n",
       "    </tr>\n",
       "    <tr>\n",
       "      <th>won</th>\n",
       "      <td>  1947.000000</td>\n",
       "      <td>     7.000000</td>\n",
       "      <td>   185.000000</td>\n",
       "      <td>    73.000000</td>\n",
       "      <td>     1.000000</td>\n",
       "      <td>     1.000000</td>\n",
       "      <td>    13.000000</td>\n",
       "    </tr>\n",
       "    <tr>\n",
       "      <th rowspan=\"2\" valign=\"top\">75%</th>\n",
       "      <th>all</th>\n",
       "      <td>  1969.000000</td>\n",
       "      <td>    10.000000</td>\n",
       "      <td>   200.000000</td>\n",
       "      <td>    74.000000</td>\n",
       "      <td>     1.000000</td>\n",
       "      <td>     1.000000</td>\n",
       "      <td>     8.000000</td>\n",
       "    </tr>\n",
       "    <tr>\n",
       "      <th>won</th>\n",
       "      <td>  1967.000000</td>\n",
       "      <td>    10.000000</td>\n",
       "      <td>   200.000000</td>\n",
       "      <td>    74.000000</td>\n",
       "      <td>     1.000000</td>\n",
       "      <td>     1.000000</td>\n",
       "      <td>    16.000000</td>\n",
       "    </tr>\n",
       "    <tr>\n",
       "      <th rowspan=\"2\" valign=\"top\">max</th>\n",
       "      <th>all</th>\n",
       "      <td>  1994.000000</td>\n",
       "      <td>    12.000000</td>\n",
       "      <td>   320.000000</td>\n",
       "      <td>    83.000000</td>\n",
       "      <td>     1.000000</td>\n",
       "      <td>     1.000000</td>\n",
       "      <td>    35.000000</td>\n",
       "    </tr>\n",
       "    <tr>\n",
       "      <th>won</th>\n",
       "      <td>  1992.000000</td>\n",
       "      <td>    12.000000</td>\n",
       "      <td>   295.000000</td>\n",
       "      <td>    82.000000</td>\n",
       "      <td>     1.000000</td>\n",
       "      <td>     1.000000</td>\n",
       "      <td>    31.000000</td>\n",
       "    </tr>\n",
       "  </tbody>\n",
       "</table>\n",
       "</div>"
      ],
      "text/plain": [
       "                birthYear    birthMonth        weight        height  \\\n",
       "major minor                                                           \n",
       "count all    16970.000000  16970.000000  16970.000000  16970.000000   \n",
       "      won     1305.000000   1305.000000   1305.000000   1305.000000   \n",
       "mean  all     1935.160695      6.634119    186.299823     72.353565   \n",
       "      won     1941.071264      6.657471    189.891188     72.652107   \n",
       "std   all       37.848612      3.463925     20.829660      2.548979   \n",
       "      won       31.812000      3.387532     21.530983      2.361835   \n",
       "min   all     1835.000000      1.000000     65.000000     43.000000   \n",
       "      won     1854.000000      1.000000    125.000000     65.000000   \n",
       "25%   all     1902.000000      4.000000    170.000000     71.000000   \n",
       "      won     1916.000000      4.000000    175.000000     71.000000   \n",
       "50%   all     1941.000000      7.000000    185.000000     72.000000   \n",
       "      won     1947.000000      7.000000    185.000000     73.000000   \n",
       "75%   all     1969.000000     10.000000    200.000000     74.000000   \n",
       "      won     1967.000000     10.000000    200.000000     74.000000   \n",
       "max   all     1994.000000     12.000000    320.000000     83.000000   \n",
       "      won     1992.000000     12.000000    295.000000     82.000000   \n",
       "\n",
       "                 bats_num    throws_num   yearsPlayed  \n",
       "major minor                                            \n",
       "count all    16970.000000  16970.000000  16970.000000  \n",
       "      won     1305.000000   1305.000000   1305.000000  \n",
       "mean  all        0.379788      0.597643      5.008898  \n",
       "      won        0.352490      0.627586     13.173180  \n",
       "std   all        0.888546      0.801786      5.076965  \n",
       "      won        0.892133      0.778846      4.620976  \n",
       "min   all       -1.000000     -1.000000      0.000000  \n",
       "      won       -1.000000     -1.000000      0.000000  \n",
       "25%   all       -1.000000      1.000000      1.000000  \n",
       "      won       -1.000000      1.000000     10.000000  \n",
       "50%   all        1.000000      1.000000      4.000000  \n",
       "      won        1.000000      1.000000     13.000000  \n",
       "75%   all        1.000000      1.000000      8.000000  \n",
       "      won        1.000000      1.000000     16.000000  \n",
       "max   all        1.000000      1.000000     35.000000  \n",
       "      won        1.000000      1.000000     31.000000  "
      ]
     },
     "metadata": {},
     "output_type": "display_data"
    }
   ],
   "source": [
    "display(panel.to_frame())"
   ]
  },
  {
   "cell_type": "code",
   "execution_count": 47,
   "metadata": {
    "collapsed": false
   },
   "outputs": [
    {
     "data": {
      "text/html": [
       "<div style=\"max-height:1000px;max-width:1500px;overflow:auto;\">\n",
       "<table border=\"1\" class=\"dataframe\">\n",
       "  <thead>\n",
       "    <tr style=\"text-align: right;\">\n",
       "      <th></th>\n",
       "      <th>Null Hypothesis</th>\n",
       "      <th>T-Test</th>\n",
       "      <th>Probability</th>\n",
       "      <th>Result</th>\n",
       "    </tr>\n",
       "  </thead>\n",
       "  <tbody>\n",
       "    <tr>\n",
       "      <th>birthYear</th>\n",
       "      <td>  Birth Year for players with awards = all players</td>\n",
       "      <td>  6.711871</td>\n",
       "      <td> 2.858345e-11</td>\n",
       "      <td>       The Null Hypothosis IS Rejected</td>\n",
       "    </tr>\n",
       "    <tr>\n",
       "      <th>birthMonth</th>\n",
       "      <td> Birth Month for players with awards = all players</td>\n",
       "      <td>  0.249029</td>\n",
       "      <td> 8.033775e-01</td>\n",
       "      <td> The Null Hypthosis CANNOT be rejected</td>\n",
       "    </tr>\n",
       "    <tr>\n",
       "      <th>weight</th>\n",
       "      <td>      weight for players with awards = all players</td>\n",
       "      <td>  6.025608</td>\n",
       "      <td> 2.188752e-09</td>\n",
       "      <td>       The Null Hypothosis IS Rejected</td>\n",
       "    </tr>\n",
       "    <tr>\n",
       "      <th>height</th>\n",
       "      <td>      height for players with awards = all players</td>\n",
       "      <td>  4.566268</td>\n",
       "      <td> 5.433850e-06</td>\n",
       "      <td>       The Null Hypothosis IS Rejected</td>\n",
       "    </tr>\n",
       "    <tr>\n",
       "      <th>bats_num</th>\n",
       "      <td> bats handedness for players with awards = all ...</td>\n",
       "      <td> -1.105345</td>\n",
       "      <td> 2.692141e-01</td>\n",
       "      <td> The Null Hypthosis CANNOT be rejected</td>\n",
       "    </tr>\n",
       "    <tr>\n",
       "      <th>throws_num</th>\n",
       "      <td> throws handedness for players with awards = al...</td>\n",
       "      <td>  1.388845</td>\n",
       "      <td> 1.651171e-01</td>\n",
       "      <td> The Null Hypthosis CANNOT be rejected</td>\n",
       "    </tr>\n",
       "    <tr>\n",
       "      <th>yearsPlayed</th>\n",
       "      <td> Years Played for players with awards = all pla...</td>\n",
       "      <td> 63.824808</td>\n",
       "      <td> 0.000000e+00</td>\n",
       "      <td>       The Null Hypothosis IS Rejected</td>\n",
       "    </tr>\n",
       "  </tbody>\n",
       "</table>\n",
       "</div>"
      ],
      "text/plain": [
       "                                               Null Hypothesis     T-Test  \\\n",
       "birthYear     Birth Year for players with awards = all players   6.711871   \n",
       "birthMonth   Birth Month for players with awards = all players   0.249029   \n",
       "weight            weight for players with awards = all players   6.025608   \n",
       "height            height for players with awards = all players   4.566268   \n",
       "bats_num     bats handedness for players with awards = all ...  -1.105345   \n",
       "throws_num   throws handedness for players with awards = al...   1.388845   \n",
       "yearsPlayed  Years Played for players with awards = all pla...  63.824808   \n",
       "\n",
       "              Probability                                 Result  \n",
       "birthYear    2.858345e-11        The Null Hypothosis IS Rejected  \n",
       "birthMonth   8.033775e-01  The Null Hypthosis CANNOT be rejected  \n",
       "weight       2.188752e-09        The Null Hypothosis IS Rejected  \n",
       "height       5.433850e-06        The Null Hypothosis IS Rejected  \n",
       "bats_num     2.692141e-01  The Null Hypthosis CANNOT be rejected  \n",
       "throws_num   1.651171e-01  The Null Hypthosis CANNOT be rejected  \n",
       "yearsPlayed  0.000000e+00        The Null Hypothosis IS Rejected  "
      ]
     },
     "metadata": {},
     "output_type": "display_data"
    }
   ],
   "source": [
    "display(df_tTests)"
   ]
  },
  {
   "cell_type": "markdown",
   "metadata": {},
   "source": [
    "## yearsPlayed ##\n",
    "While it is expected that the best players play longer, the following histograms emphasis the difference."
   ]
  },
  {
   "cell_type": "code",
   "execution_count": 48,
   "metadata": {
    "collapsed": false
   },
   "outputs": [
    {
     "data": {
      "image/png": "[encoded data removed]",
      "text/plain": [
       "<matplotlib.figure.Figure at 0x10ac4a810>"
      ]
     },
     "metadata": {},
     "output_type": "display_data"
    }
   ],
   "source": [
    "############################\n",
    "# Histogram of Years Played by Players who have won Awards\n",
    "#\n",
    "plt.hist(df_won['yearsPlayed'],histtype='bar', bins = 30, range=(0,30), color ='b')\n",
    "plt.xlabel('Years Played')\n",
    "plt.ylabel('# of Players')\n",
    "plt.title('Players with Awards')\n",
    "plt.show()"
   ]
  },
  {
   "cell_type": "markdown",
   "metadata": {},
   "source": [
    "### The distribution for Players with Awards (shown above) is close to a normal distribtion which is expected."
   ]
  },
  {
   "cell_type": "code",
   "execution_count": 49,
   "metadata": {
    "collapsed": false
   },
   "outputs": [
    {
     "data": {
      "image/png": "[encoded data removed]",
      "text/plain": [
       "<matplotlib.figure.Figure at 0x1033d3f50>"
      ]
     },
     "metadata": {},
     "output_type": "display_data"
    }
   ],
   "source": [
    "############################\n",
    "# Histogram of Years Played For All Players\n",
    "#\n",
    "plt.hist(df_master2['yearsPlayed'],histtype='bar', bins = 30, range=(0,30), color ='c')\n",
    "plt.xlabel('Years Played')\n",
    "plt.ylabel('# of Players')\n",
    "plt.title('All Players')\n",
    "plt.show()"
   ]
  },
  {
   "cell_type": "markdown",
   "metadata": {},
   "source": [
    "### The yearsPlayed distribution for All Players (shown above) is the oppposite with hyperbolic distribtion.\n",
    "\n",
    "The next histograms compare the distribution of birth year\n"
   ]
  },
  {
   "cell_type": "code",
   "execution_count": 50,
   "metadata": {
    "collapsed": false
   },
   "outputs": [
    {
     "data": {
      "image/png": "[encoded data removed]",
      "text/plain": [
       "<matplotlib.figure.Figure at 0x10bc5e150>"
      ]
     },
     "metadata": {},
     "output_type": "display_data"
    }
   ],
   "source": [
    "############################\n",
    "# Histogram of Birth Year by Players who have won Awards\n",
    "#\n",
    "plt.hist(df_won['birthYear'],histtype='bar', bins = 50,color ='b')\n",
    "plt.xlabel('Birth Year')\n",
    "plt.ylabel('# of Players')\n",
    "plt.title('Players with Awards')\n",
    "plt.show()"
   ]
  },
  {
   "cell_type": "code",
   "execution_count": 51,
   "metadata": {
    "collapsed": false
   },
   "outputs": [
    {
     "data": {
      "image/png": "[encoded data removed]",
      "text/plain": [
       "<matplotlib.figure.Figure at 0x1060ea0d0>"
      ]
     },
     "metadata": {},
     "output_type": "display_data"
    }
   ],
   "source": [
    "############################\n",
    "# Histogram of Birth Year For All Players\n",
    "#\n",
    "plt.hist(df_master2['birthYear'],histtype='bar', bins = 50, color ='c')\n",
    "plt.xlabel('Birth Year')\n",
    "plt.ylabel('# of Players')\n",
    "plt.title('All Players')\n",
    "plt.show()"
   ]
  },
  {
   "cell_type": "markdown",
   "metadata": {},
   "source": [
    "## Both histograms for birthYear have similar distributions\n",
    "\n",
    "### End of Analysis -- Part 1. \n",
    "\n",
    "------------\n",
    "\n",
    "## Analysis -- PART 2: Pitching vs. Batting\n",
    "\n",
    "\n",
    "Baseball is fundementally a conflict between pitching and hitting.  I measured the correlation between these statisics over time.  I selected ERA (Earned Run Average) to represent the pitching metric, and \"Runs\" / \"At bats\" to represent batting.  I would not expect a 100% correlation because fielding errors are not included in ERA.\n",
    "\n",
    "* Question for investigation: What is the correlation between ERA and (\"Runs / At Bat\") over time?"
   ]
  },
  {
   "cell_type": "code",
   "execution_count": 52,
   "metadata": {
    "collapsed": false
   },
   "outputs": [],
   "source": [
    "#  Import the pitching data\n",
    "df_pitching = pd.read_csv(\"pitching.csv\")\n",
    "# Get the Average ERA for each year\n",
    "df_ERA_byYear = df_pitching[['ERA', 'yearID']].groupby('yearID').mean()\n",
    "\n",
    "#  Get the Batting data\n",
    "df_Batting = pd.read_csv(\"Batting.csv\")\n",
    "\n",
    "# Runs per At Bats should a better metic than batting average\n",
    "df_runs_byYear = df_Batting[['R','AB','yearID']].groupby('yearID').sum()\n",
    "df_runs_byYear['R_per_AB'] = df_runs_byYear['R'] / df_runs_byYear['AB']\n",
    "\n",
    "# Joint the data to make a single df with the information we need\n",
    "df_ERA_R_AB = df_ERA_byYear.join(df_runs_byYear['R_per_AB'])\n",
    "############################\n",
    "# Scatter Plot of ERA vs. Runs / At bats\n",
    "#\n",
    "#  Scale the plot to drop the outliers\n",
    "\n",
    "def plot_scatter(df, max_x, max_y, min_Year, max_Year):\n",
    "    # Filter the Dataframe\n",
    "    dfx = df['ERA'][(df['R_per_AB'] < max_y) & (df['ERA'] < max_x) ]\n",
    "    dfx = dfx.loc[dfx.index <= max_Year]\n",
    "    dfx = dfx.loc[dfx.index >= min_Year]\n",
    "    dfy = df['R_per_AB'][(df['R_per_AB'] < max_y) & (df['ERA'] < max_x)]\n",
    "    dfy = dfy.loc[dfy.index <= max_Year]\n",
    "    dfy = dfy.loc[dfy.index >= min_Year]\n",
    "\n",
    "    plt.scatter(dfx, dfy, c = dfx.index.tolist(),cmap=cm.rainbow)\n",
    "    plt.xlabel('ERA')\n",
    "    plt.ylabel('Runs / At Bats')\n",
    "    plt.title('Years '+ str(min_Year) + ' to ' + str(max_Year))\n",
    "    clb = plt.colorbar()\n",
    "    clb.ax.set_title('YEAR')\n",
    "    plt.show()\n",
    "\n",
    "def pearsons_r(df, min_Year, max_Year):\n",
    "    # Filter the Dataframe\n",
    "    df = df.loc[df.index <= max_Year]\n",
    "    df = df.loc[df.index >= min_Year]\n",
    "    return df.corr()"
   ]
  },
  {
   "cell_type": "markdown",
   "metadata": {},
   "source": [
    "## Analysis -- PART 2: Pitching vs. Batting##\n",
    "\n",
    "## RESULTS: Correlation Tests ##\n",
    "\n",
    "The following scatter chart shows the correlation between ERA and R/AB over the time of the entire dataset -- 1871 through 2014\n",
    "\n"
   ]
  },
  {
   "cell_type": "code",
   "execution_count": 53,
   "metadata": {
    "collapsed": false
   },
   "outputs": [
    {
     "data": {
      "image/png": "[encoded data removed]",
      "text/plain": [
       "<matplotlib.figure.Figure at 0x10c667890>"
      ]
     },
     "metadata": {},
     "output_type": "display_data"
    }
   ],
   "source": [
    "plot_scatter(df_ERA_R_AB, 7.0, 0.2, 1871, 2014)"
   ]
  },
  {
   "cell_type": "markdown",
   "metadata": {},
   "source": [
    "## RESULTS: Pearson's R Correlation Coefficent:\n",
    "\n",
    "### (1871 - 2014) ###"
   ]
  },
  {
   "cell_type": "code",
   "execution_count": 54,
   "metadata": {
    "collapsed": false
   },
   "outputs": [
    {
     "data": {
      "text/html": [
       "<div style=\"max-height:1000px;max-width:1500px;overflow:auto;\">\n",
       "<table border=\"1\" class=\"dataframe\">\n",
       "  <thead>\n",
       "    <tr style=\"text-align: right;\">\n",
       "      <th></th>\n",
       "      <th>ERA</th>\n",
       "      <th>R_per_AB</th>\n",
       "    </tr>\n",
       "  </thead>\n",
       "  <tbody>\n",
       "    <tr>\n",
       "      <th>ERA</th>\n",
       "      <td> 1.000000</td>\n",
       "      <td> 0.524192</td>\n",
       "    </tr>\n",
       "    <tr>\n",
       "      <th>R_per_AB</th>\n",
       "      <td> 0.524192</td>\n",
       "      <td> 1.000000</td>\n",
       "    </tr>\n",
       "  </tbody>\n",
       "</table>\n",
       "</div>"
      ],
      "text/plain": [
       "               ERA  R_per_AB\n",
       "ERA       1.000000  0.524192\n",
       "R_per_AB  0.524192  1.000000"
      ]
     },
     "execution_count": 54,
     "metadata": {},
     "output_type": "execute_result"
    }
   ],
   "source": [
    "#  Use Pandas corr function to get Pearson's r correlation\n",
    "pearsons_r(df_ERA_R_AB, 1871, 2014)"
   ]
  },
  {
   "cell_type": "markdown",
   "metadata": {},
   "source": [
    "Pearson's R show they are somewhat correlated at 0.52.\n",
    "\n",
    "However, the scatter plot shows the correlations from 1871 through ~ 1910 have an offset which may be weaking the correlation.  Let's separate these date ranges.\n",
    "\n",
    "## RESULTS: Pearson's R Correlation Coefficent:\n",
    "\n",
    "### (1871 - 1910) ###"
   ]
  },
  {
   "cell_type": "code",
   "execution_count": 55,
   "metadata": {
    "collapsed": false
   },
   "outputs": [
    {
     "data": {
      "image/png": "[encoded data removed]",
      "text/plain": [
       "<matplotlib.figure.Figure at 0x10c674f50>"
      ]
     },
     "metadata": {},
     "output_type": "display_data"
    }
   ],
   "source": [
    "plot_scatter(df_ERA_R_AB, 7.0, 0.2, 1871, 1910)"
   ]
  },
  {
   "cell_type": "code",
   "execution_count": 56,
   "metadata": {
    "collapsed": false
   },
   "outputs": [
    {
     "data": {
      "text/html": [
       "<div style=\"max-height:1000px;max-width:1500px;overflow:auto;\">\n",
       "<table border=\"1\" class=\"dataframe\">\n",
       "  <thead>\n",
       "    <tr style=\"text-align: right;\">\n",
       "      <th></th>\n",
       "      <th>ERA</th>\n",
       "      <th>R_per_AB</th>\n",
       "    </tr>\n",
       "  </thead>\n",
       "  <tbody>\n",
       "    <tr>\n",
       "      <th>ERA</th>\n",
       "      <td> 1.000000</td>\n",
       "      <td> 0.631948</td>\n",
       "    </tr>\n",
       "    <tr>\n",
       "      <th>R_per_AB</th>\n",
       "      <td> 0.631948</td>\n",
       "      <td> 1.000000</td>\n",
       "    </tr>\n",
       "  </tbody>\n",
       "</table>\n",
       "</div>"
      ],
      "text/plain": [
       "               ERA  R_per_AB\n",
       "ERA       1.000000  0.631948\n",
       "R_per_AB  0.631948  1.000000"
      ]
     },
     "execution_count": 56,
     "metadata": {},
     "output_type": "execute_result"
    }
   ],
   "source": [
    "pearsons_r(df_ERA_R_AB, 1871, 1910)"
   ]
  },
  {
   "cell_type": "markdown",
   "metadata": {},
   "source": [
    "### The correlation improved to 63% for years 1871 - 1910\n",
    "\n",
    "## The Results for years 1910 - 2014 are below:"
   ]
  },
  {
   "cell_type": "code",
   "execution_count": 57,
   "metadata": {
    "collapsed": false
   },
   "outputs": [
    {
     "data": {
      "image/png": "[encoded data removed]",
      "text/plain": [
       "<matplotlib.figure.Figure at 0x10b2b7d10>"
      ]
     },
     "metadata": {},
     "output_type": "display_data"
    }
   ],
   "source": [
    "plot_scatter(df_ERA_R_AB, 7.0, 0.2, 1911, 2014)"
   ]
  },
  {
   "cell_type": "code",
   "execution_count": 58,
   "metadata": {
    "collapsed": false
   },
   "outputs": [
    {
     "data": {
      "text/html": [
       "<div style=\"max-height:1000px;max-width:1500px;overflow:auto;\">\n",
       "<table border=\"1\" class=\"dataframe\">\n",
       "  <thead>\n",
       "    <tr style=\"text-align: right;\">\n",
       "      <th></th>\n",
       "      <th>ERA</th>\n",
       "      <th>R_per_AB</th>\n",
       "    </tr>\n",
       "  </thead>\n",
       "  <tbody>\n",
       "    <tr>\n",
       "      <th>ERA</th>\n",
       "      <td> 1.000000</td>\n",
       "      <td> 0.831108</td>\n",
       "    </tr>\n",
       "    <tr>\n",
       "      <th>R_per_AB</th>\n",
       "      <td> 0.831108</td>\n",
       "      <td> 1.000000</td>\n",
       "    </tr>\n",
       "  </tbody>\n",
       "</table>\n",
       "</div>"
      ],
      "text/plain": [
       "               ERA  R_per_AB\n",
       "ERA       1.000000  0.831108\n",
       "R_per_AB  0.831108  1.000000"
      ]
     },
     "execution_count": 58,
     "metadata": {},
     "output_type": "execute_result"
    }
   ],
   "source": [
    "pearsons_r(df_ERA_R_AB, 1911, 2014)"
   ]
  },
  {
   "cell_type": "markdown",
   "metadata": {},
   "source": [
    "### The correlation improved to 83% for years 1910 - 2014\n",
    "\n",
    "As you can see, by splitting the analysis from (1871 - 1910) and (1911 - 2014) the correlations have increased. I will let others who are more knowledgble with baseball explain what happened to Baseball ~ 1910 to change Pitching / Hitting dynamics."
   ]
  },
  {
   "cell_type": "markdown",
   "metadata": {},
   "source": [
    "# CONCLUSIONS\n",
    "\n",
    "### PART 1 ###\n",
    "\n",
    "The best players, or the one who have won awards during their career have the following statistically significant difference to the population of all players:\n",
    "- **Born Later** (possible due to awards/players increasing over time)\n",
    "- **Bigger** (weigh more and are taller)  Although significant, it is import that this does not imply causation.\n",
    "- **Played Longer** (It is expected that better players play longer.  Histograms are shown next)\n",
    "\n",
    "These hypothesis tests are supported by one-sample, T-tests with an alpha of 0.001\n",
    "\n",
    "### PART 2 ###\n",
    "\n",
    "\n",
    "Pitching and batting staistics are linearly correlated, but the tests show that the game changed in the early 20th century because these statistics are better correlated when studied from 1871 - 1910, and 1911 - 2014.\n",
    "\n",
    "This surprising relationship became visible when viewing the scatter point over time.\n"
   ]
  },
  {
   "cell_type": "markdown",
   "metadata": {},
   "source": [
    "-----------\n",
    "# Summary of statistics and plots #\n"
   ]
  },
  {
   "cell_type": "code",
   "execution_count": 59,
   "metadata": {
    "collapsed": false
   },
   "outputs": [
    {
     "data": {
      "text/html": [
       "<div style=\"max-height:1000px;max-width:1500px;overflow:auto;\">\n",
       "<table border=\"1\" class=\"dataframe\">\n",
       "  <thead>\n",
       "    <tr style=\"text-align: right;\">\n",
       "      <th></th>\n",
       "      <th>Null Hypothesis</th>\n",
       "      <th>T-Test</th>\n",
       "      <th>Probability</th>\n",
       "      <th>Result</th>\n",
       "    </tr>\n",
       "  </thead>\n",
       "  <tbody>\n",
       "    <tr>\n",
       "      <th>birthYear</th>\n",
       "      <td>  Birth Year for players with awards = all players</td>\n",
       "      <td>  6.711871</td>\n",
       "      <td> 2.858345e-11</td>\n",
       "      <td>       The Null Hypothosis IS Rejected</td>\n",
       "    </tr>\n",
       "    <tr>\n",
       "      <th>birthMonth</th>\n",
       "      <td> Birth Month for players with awards = all players</td>\n",
       "      <td>  0.249029</td>\n",
       "      <td> 8.033775e-01</td>\n",
       "      <td> The Null Hypthosis CANNOT be rejected</td>\n",
       "    </tr>\n",
       "    <tr>\n",
       "      <th>weight</th>\n",
       "      <td>      weight for players with awards = all players</td>\n",
       "      <td>  6.025608</td>\n",
       "      <td> 2.188752e-09</td>\n",
       "      <td>       The Null Hypothosis IS Rejected</td>\n",
       "    </tr>\n",
       "    <tr>\n",
       "      <th>height</th>\n",
       "      <td>      height for players with awards = all players</td>\n",
       "      <td>  4.566268</td>\n",
       "      <td> 5.433850e-06</td>\n",
       "      <td>       The Null Hypothosis IS Rejected</td>\n",
       "    </tr>\n",
       "    <tr>\n",
       "      <th>bats_num</th>\n",
       "      <td> bats handedness for players with awards = all ...</td>\n",
       "      <td> -1.105345</td>\n",
       "      <td> 2.692141e-01</td>\n",
       "      <td> The Null Hypthosis CANNOT be rejected</td>\n",
       "    </tr>\n",
       "    <tr>\n",
       "      <th>throws_num</th>\n",
       "      <td> throws handedness for players with awards = al...</td>\n",
       "      <td>  1.388845</td>\n",
       "      <td> 1.651171e-01</td>\n",
       "      <td> The Null Hypthosis CANNOT be rejected</td>\n",
       "    </tr>\n",
       "    <tr>\n",
       "      <th>yearsPlayed</th>\n",
       "      <td> Years Played for players with awards = all pla...</td>\n",
       "      <td> 63.824808</td>\n",
       "      <td> 0.000000e+00</td>\n",
       "      <td>       The Null Hypothosis IS Rejected</td>\n",
       "    </tr>\n",
       "  </tbody>\n",
       "</table>\n",
       "</div>"
      ],
      "text/plain": [
       "                                               Null Hypothesis     T-Test  \\\n",
       "birthYear     Birth Year for players with awards = all players   6.711871   \n",
       "birthMonth   Birth Month for players with awards = all players   0.249029   \n",
       "weight            weight for players with awards = all players   6.025608   \n",
       "height            height for players with awards = all players   4.566268   \n",
       "bats_num     bats handedness for players with awards = all ...  -1.105345   \n",
       "throws_num   throws handedness for players with awards = al...   1.388845   \n",
       "yearsPlayed  Years Played for players with awards = all pla...  63.824808   \n",
       "\n",
       "              Probability                                 Result  \n",
       "birthYear    2.858345e-11        The Null Hypothosis IS Rejected  \n",
       "birthMonth   8.033775e-01  The Null Hypthosis CANNOT be rejected  \n",
       "weight       2.188752e-09        The Null Hypothosis IS Rejected  \n",
       "height       5.433850e-06        The Null Hypothosis IS Rejected  \n",
       "bats_num     2.692141e-01  The Null Hypthosis CANNOT be rejected  \n",
       "throws_num   1.651171e-01  The Null Hypthosis CANNOT be rejected  \n",
       "yearsPlayed  0.000000e+00        The Null Hypothosis IS Rejected  "
      ]
     },
     "metadata": {},
     "output_type": "display_data"
    }
   ],
   "source": [
    "display(df_tTests)"
   ]
  },
  {
   "cell_type": "code",
   "execution_count": 60,
   "metadata": {
    "collapsed": false,
    "scrolled": true
   },
   "outputs": [
    {
     "data": {
      "image/png": "[encoded data removed]",
      "text/plain": [
       "<matplotlib.figure.Figure at 0x10adbad10>"
      ]
     },
     "metadata": {},
     "output_type": "display_data"
    }
   ],
   "source": [
    "############################\n",
    "# Histogram of Years Played by Players who have won Awards\n",
    "#\n",
    "plt.hist(df_won['yearsPlayed'],histtype='bar', bins = 30, range=(0,30), color ='b')\n",
    "plt.xlabel('Years Played')\n",
    "plt.ylabel('# of Players')\n",
    "plt.title('Players with Awards')\n",
    "plt.show()"
   ]
  },
  {
   "cell_type": "code",
   "execution_count": 61,
   "metadata": {
    "collapsed": false
   },
   "outputs": [
    {
     "data": {
      "image/png": "[encoded data removed]",
      "text/plain": [
       "<matplotlib.figure.Figure at 0x10cc2bd90>"
      ]
     },
     "metadata": {},
     "output_type": "display_data"
    }
   ],
   "source": [
    "############################\n",
    "# Histogram of Years Played For All Players\n",
    "#\n",
    "plt.hist(df_master2['yearsPlayed'],histtype='bar', bins = 30, range=(0,30), color ='c')\n",
    "plt.xlabel('Years Played')\n",
    "plt.ylabel('# of Players')\n",
    "plt.title('All Players')\n",
    "plt.show()"
   ]
  },
  {
   "cell_type": "code",
   "execution_count": 62,
   "metadata": {
    "collapsed": false
   },
   "outputs": [
    {
     "data": {
      "image/png": "[encoded data removed]",
      "text/plain": [
       "<matplotlib.figure.Figure at 0x10ac82750>"
      ]
     },
     "metadata": {},
     "output_type": "display_data"
    },
    {
     "data": {
      "text/html": [
       "<div style=\"max-height:1000px;max-width:1500px;overflow:auto;\">\n",
       "<table border=\"1\" class=\"dataframe\">\n",
       "  <thead>\n",
       "    <tr style=\"text-align: right;\">\n",
       "      <th></th>\n",
       "      <th>ERA</th>\n",
       "      <th>R_per_AB</th>\n",
       "    </tr>\n",
       "  </thead>\n",
       "  <tbody>\n",
       "    <tr>\n",
       "      <th>ERA</th>\n",
       "      <td> 1.000000</td>\n",
       "      <td> 0.524192</td>\n",
       "    </tr>\n",
       "    <tr>\n",
       "      <th>R_per_AB</th>\n",
       "      <td> 0.524192</td>\n",
       "      <td> 1.000000</td>\n",
       "    </tr>\n",
       "  </tbody>\n",
       "</table>\n",
       "</div>"
      ],
      "text/plain": [
       "               ERA  R_per_AB\n",
       "ERA       1.000000  0.524192\n",
       "R_per_AB  0.524192  1.000000"
      ]
     },
     "execution_count": 62,
     "metadata": {},
     "output_type": "execute_result"
    }
   ],
   "source": [
    "plot_scatter(df_ERA_R_AB, 7.0, 0.2, 1871, 2014)\n",
    "pearsons_r(df_ERA_R_AB, 1871, 2014)"
   ]
  },
  {
   "cell_type": "code",
   "execution_count": 63,
   "metadata": {
    "collapsed": false
   },
   "outputs": [
    {
     "data": {
      "image/png": "[encoded data removed]",
      "text/plain": [
       "<matplotlib.figure.Figure at 0x10bdcf150>"
      ]
     },
     "metadata": {},
     "output_type": "display_data"
    },
    {
     "data": {
      "text/html": [
       "<div style=\"max-height:1000px;max-width:1500px;overflow:auto;\">\n",
       "<table border=\"1\" class=\"dataframe\">\n",
       "  <thead>\n",
       "    <tr style=\"text-align: right;\">\n",
       "      <th></th>\n",
       "      <th>ERA</th>\n",
       "      <th>R_per_AB</th>\n",
       "    </tr>\n",
       "  </thead>\n",
       "  <tbody>\n",
       "    <tr>\n",
       "      <th>ERA</th>\n",
       "      <td> 1.000000</td>\n",
       "      <td> 0.631948</td>\n",
       "    </tr>\n",
       "    <tr>\n",
       "      <th>R_per_AB</th>\n",
       "      <td> 0.631948</td>\n",
       "      <td> 1.000000</td>\n",
       "    </tr>\n",
       "  </tbody>\n",
       "</table>\n",
       "</div>"
      ],
      "text/plain": [
       "               ERA  R_per_AB\n",
       "ERA       1.000000  0.631948\n",
       "R_per_AB  0.631948  1.000000"
      ]
     },
     "execution_count": 63,
     "metadata": {},
     "output_type": "execute_result"
    }
   ],
   "source": [
    "plot_scatter(df_ERA_R_AB, 7.0, 0.2, 1871, 1910)\n",
    "pearsons_r(df_ERA_R_AB, 1871, 1910)"
   ]
  },
  {
   "cell_type": "code",
   "execution_count": 64,
   "metadata": {
    "collapsed": false
   },
   "outputs": [
    {
     "data": {
      "image/png": "[encoded data removed]",
      "text/plain": [
       "<matplotlib.figure.Figure at 0x10ac77b10>"
      ]
     },
     "metadata": {},
     "output_type": "display_data"
    },
    {
     "data": {
      "text/html": [
       "<div style=\"max-height:1000px;max-width:1500px;overflow:auto;\">\n",
       "<table border=\"1\" class=\"dataframe\">\n",
       "  <thead>\n",
       "    <tr style=\"text-align: right;\">\n",
       "      <th></th>\n",
       "      <th>ERA</th>\n",
       "      <th>R_per_AB</th>\n",
       "    </tr>\n",
       "  </thead>\n",
       "  <tbody>\n",
       "    <tr>\n",
       "      <th>ERA</th>\n",
       "      <td> 1.000000</td>\n",
       "      <td> 0.831108</td>\n",
       "    </tr>\n",
       "    <tr>\n",
       "      <th>R_per_AB</th>\n",
       "      <td> 0.831108</td>\n",
       "      <td> 1.000000</td>\n",
       "    </tr>\n",
       "  </tbody>\n",
       "</table>\n",
       "</div>"
      ],
      "text/plain": [
       "               ERA  R_per_AB\n",
       "ERA       1.000000  0.831108\n",
       "R_per_AB  0.831108  1.000000"
      ]
     },
     "execution_count": 64,
     "metadata": {},
     "output_type": "execute_result"
    }
   ],
   "source": [
    "plot_scatter(df_ERA_R_AB, 7.0, 0.2, 1911, 2014)\n",
    "pearsons_r(df_ERA_R_AB, 1911, 2014)"
   ]
  }
 ],
 "metadata": {
  "kernelspec": {
   "display_name": "Python 2",
   "language": "python",
   "name": "python2"
  },
  "language_info": {
   "codemirror_mode": {
    "name": "ipython",
    "version": 2
   },
   "file_extension": ".py",
   "mimetype": "text/x-python",
   "name": "python",
   "nbconvert_exporter": "python",
   "pygments_lexer": "ipython2",
   "version": "2.7.12"
  }
 },
 "nbformat": 4,
 "nbformat_minor": 0
}
