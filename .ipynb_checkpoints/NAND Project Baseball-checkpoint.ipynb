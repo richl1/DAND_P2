{
 "cells": [
  {
   "cell_type": "markdown",
   "metadata": {},
   "source": [
    "Analysis of Sean Lahman Baseball data from 1871 to 2014.  The Data Source was downloaded from www.seanlahman.com.\n",
    "\n",
    "My personal knowledge of Baseball is limited, however, I hope that allows me to analyze the data from a data-centric prespective without preconceptions.\n",
    "\n",
    "Brainstorming Questions for investigation:\n",
    "1. The dataset includes basic player information including birthdate, birth city, height, weight, L/R Handedness, debut date, and final game date.  Which, if any, of these are correlated with a player being inducted to the Hall of Fame.\n",
    "\n",
    "2. From an econonmics perspective, a player's salary shold be an objective measure of a player's value.  Which player statistics are most correlated to salary?\n",
    "\n",
    "3. How has pitcher's ERA varied with hitter's Batting Average over time?\n"
   ]
  },
  {
   "cell_type": "code",
   "execution_count": 27,
   "metadata": {
    "collapsed": true
   },
   "outputs": [],
   "source": [
    "%matplotlib inline\n",
    "import numpy as np\n",
    "import pandas as pd\n",
    "import matplotlib as plt\n",
    "import seaborn"
   ]
  },
  {
   "cell_type": "code",
   "execution_count": 21,
   "metadata": {
    "collapsed": false
   },
   "outputs": [
    {
     "data": {
      "text/plain": [
       "birthYear       float64\n",
       "birthMonth      float64\n",
       "birthDay        float64\n",
       "birthCountry     object\n",
       "birthState       object\n",
       "birthCity        object\n",
       "deathYear       float64\n",
       "deathMonth      float64\n",
       "deathDay        float64\n",
       "deathCountry     object\n",
       "deathState       object\n",
       "deathCity        object\n",
       "nameFirst        object\n",
       "nameLast         object\n",
       "nameGiven        object\n",
       "weight          float64\n",
       "height          float64\n",
       "bats             object\n",
       "throws           object\n",
       "debut            object\n",
       "finalGame        object\n",
       "retroID          object\n",
       "bbrefID          object\n",
       "dtype: object"
      ]
     },
     "execution_count": 21,
     "metadata": {},
     "output_type": "execute_result"
    }
   ],
   "source": [
    "df_master = pd.read_csv(\"master.csv\", index_col='playerID')\n",
    "# Look at the available columns\n",
    "df_master.dtypes"
   ]
  },
  {
   "cell_type": "code",
   "execution_count": 26,
   "metadata": {
    "collapsed": false
   },
   "outputs": [
    {
     "data": {
      "text/html": [
       "<div>\n",
       "<table border=\"1\" class=\"dataframe\">\n",
       "  <thead>\n",
       "    <tr style=\"text-align: right;\">\n",
       "      <th></th>\n",
       "      <th>birthYear</th>\n",
       "      <th>birthMonth</th>\n",
       "      <th>birthCountry</th>\n",
       "      <th>weight</th>\n",
       "      <th>height</th>\n",
       "      <th>bats</th>\n",
       "      <th>throws</th>\n",
       "      <th>debut</th>\n",
       "      <th>finalGame</th>\n",
       "    </tr>\n",
       "    <tr>\n",
       "      <th>playerID</th>\n",
       "      <th></th>\n",
       "      <th></th>\n",
       "      <th></th>\n",
       "      <th></th>\n",
       "      <th></th>\n",
       "      <th></th>\n",
       "      <th></th>\n",
       "      <th></th>\n",
       "      <th></th>\n",
       "    </tr>\n",
       "  </thead>\n",
       "  <tbody>\n",
       "    <tr>\n",
       "      <th>aardsda01</th>\n",
       "      <td>1981</td>\n",
       "      <td>12</td>\n",
       "      <td>USA</td>\n",
       "      <td>205</td>\n",
       "      <td>75</td>\n",
       "      <td>R</td>\n",
       "      <td>R</td>\n",
       "      <td>4/6/2004</td>\n",
       "      <td>9/28/2013</td>\n",
       "    </tr>\n",
       "    <tr>\n",
       "      <th>aaronha01</th>\n",
       "      <td>1934</td>\n",
       "      <td>2</td>\n",
       "      <td>USA</td>\n",
       "      <td>180</td>\n",
       "      <td>72</td>\n",
       "      <td>R</td>\n",
       "      <td>R</td>\n",
       "      <td>4/13/1954</td>\n",
       "      <td>10/3/1976</td>\n",
       "    </tr>\n",
       "    <tr>\n",
       "      <th>aaronto01</th>\n",
       "      <td>1939</td>\n",
       "      <td>8</td>\n",
       "      <td>USA</td>\n",
       "      <td>190</td>\n",
       "      <td>75</td>\n",
       "      <td>R</td>\n",
       "      <td>R</td>\n",
       "      <td>4/10/1962</td>\n",
       "      <td>9/26/1971</td>\n",
       "    </tr>\n",
       "    <tr>\n",
       "      <th>aasedo01</th>\n",
       "      <td>1954</td>\n",
       "      <td>9</td>\n",
       "      <td>USA</td>\n",
       "      <td>190</td>\n",
       "      <td>75</td>\n",
       "      <td>R</td>\n",
       "      <td>R</td>\n",
       "      <td>7/26/1977</td>\n",
       "      <td>10/3/1990</td>\n",
       "    </tr>\n",
       "    <tr>\n",
       "      <th>abadan01</th>\n",
       "      <td>1972</td>\n",
       "      <td>8</td>\n",
       "      <td>USA</td>\n",
       "      <td>184</td>\n",
       "      <td>73</td>\n",
       "      <td>L</td>\n",
       "      <td>L</td>\n",
       "      <td>9/10/2001</td>\n",
       "      <td>4/13/2006</td>\n",
       "    </tr>\n",
       "    <tr>\n",
       "      <th>abadfe01</th>\n",
       "      <td>1985</td>\n",
       "      <td>12</td>\n",
       "      <td>D.R.</td>\n",
       "      <td>220</td>\n",
       "      <td>73</td>\n",
       "      <td>L</td>\n",
       "      <td>L</td>\n",
       "      <td>7/28/2010</td>\n",
       "      <td>9/27/2014</td>\n",
       "    </tr>\n",
       "    <tr>\n",
       "      <th>abadijo01</th>\n",
       "      <td>1854</td>\n",
       "      <td>11</td>\n",
       "      <td>USA</td>\n",
       "      <td>192</td>\n",
       "      <td>72</td>\n",
       "      <td>R</td>\n",
       "      <td>R</td>\n",
       "      <td>1875-04-26</td>\n",
       "      <td>1875-06-10</td>\n",
       "    </tr>\n",
       "    <tr>\n",
       "      <th>abbated01</th>\n",
       "      <td>1877</td>\n",
       "      <td>4</td>\n",
       "      <td>USA</td>\n",
       "      <td>170</td>\n",
       "      <td>71</td>\n",
       "      <td>R</td>\n",
       "      <td>R</td>\n",
       "      <td>1897-09-04</td>\n",
       "      <td>9/15/1910</td>\n",
       "    </tr>\n",
       "    <tr>\n",
       "      <th>abbeybe01</th>\n",
       "      <td>1869</td>\n",
       "      <td>11</td>\n",
       "      <td>USA</td>\n",
       "      <td>175</td>\n",
       "      <td>71</td>\n",
       "      <td>R</td>\n",
       "      <td>R</td>\n",
       "      <td>1892-06-14</td>\n",
       "      <td>1896-09-23</td>\n",
       "    </tr>\n",
       "    <tr>\n",
       "      <th>abbeych01</th>\n",
       "      <td>1866</td>\n",
       "      <td>10</td>\n",
       "      <td>USA</td>\n",
       "      <td>169</td>\n",
       "      <td>68</td>\n",
       "      <td>L</td>\n",
       "      <td>L</td>\n",
       "      <td>1893-08-16</td>\n",
       "      <td>1897-08-19</td>\n",
       "    </tr>\n",
       "  </tbody>\n",
       "</table>\n",
       "</div>"
      ],
      "text/plain": [
       "           birthYear  birthMonth birthCountry  weight  height bats throws  \\\n",
       "playerID                                                                    \n",
       "aardsda01       1981          12          USA     205      75    R      R   \n",
       "aaronha01       1934           2          USA     180      72    R      R   \n",
       "aaronto01       1939           8          USA     190      75    R      R   \n",
       "aasedo01        1954           9          USA     190      75    R      R   \n",
       "abadan01        1972           8          USA     184      73    L      L   \n",
       "abadfe01        1985          12         D.R.     220      73    L      L   \n",
       "abadijo01       1854          11          USA     192      72    R      R   \n",
       "abbated01       1877           4          USA     170      71    R      R   \n",
       "abbeybe01       1869          11          USA     175      71    R      R   \n",
       "abbeych01       1866          10          USA     169      68    L      L   \n",
       "\n",
       "                debut   finalGame  \n",
       "playerID                           \n",
       "aardsda01    4/6/2004   9/28/2013  \n",
       "aaronha01   4/13/1954   10/3/1976  \n",
       "aaronto01   4/10/1962   9/26/1971  \n",
       "aasedo01    7/26/1977   10/3/1990  \n",
       "abadan01    9/10/2001   4/13/2006  \n",
       "abadfe01    7/28/2010   9/27/2014  \n",
       "abadijo01  1875-04-26  1875-06-10  \n",
       "abbated01  1897-09-04   9/15/1910  \n",
       "abbeybe01  1892-06-14  1896-09-23  \n",
       "abbeych01  1893-08-16  1897-08-19  "
      ]
     },
     "execution_count": 26,
     "metadata": {},
     "output_type": "execute_result"
    }
   ],
   "source": [
    "# Select the features we want to look for correlation\n",
    "# Filter players with missing information\n",
    "df_master1 = df_master[['birthYear', 'birthMonth', 'birthCountry', 'weight', 'height',\\\n",
    "           'bats', 'throws', 'debut', 'finalGame' ]].dropna(axis =0)\n",
    "df_master1.head(10)"
   ]
  },
  {
   "cell_type": "code",
   "execution_count": 38,
   "metadata": {
    "collapsed": false
   },
   "outputs": [
    {
     "data": {
      "text/html": [
       "<div>\n",
       "<table border=\"1\" class=\"dataframe\">\n",
       "  <thead>\n",
       "    <tr style=\"text-align: right;\">\n",
       "      <th></th>\n",
       "      <th>birthYear</th>\n",
       "      <th>birthMonth</th>\n",
       "      <th>birthCountry</th>\n",
       "      <th>weight</th>\n",
       "      <th>height</th>\n",
       "      <th>bats</th>\n",
       "      <th>throws</th>\n",
       "      <th>debut</th>\n",
       "      <th>finalGame</th>\n",
       "      <th>debut_yr</th>\n",
       "      <th>final_yr</th>\n",
       "    </tr>\n",
       "    <tr>\n",
       "      <th>playerID</th>\n",
       "      <th></th>\n",
       "      <th></th>\n",
       "      <th></th>\n",
       "      <th></th>\n",
       "      <th></th>\n",
       "      <th></th>\n",
       "      <th></th>\n",
       "      <th></th>\n",
       "      <th></th>\n",
       "      <th></th>\n",
       "      <th></th>\n",
       "    </tr>\n",
       "  </thead>\n",
       "  <tbody>\n",
       "    <tr>\n",
       "      <th>aardsda01</th>\n",
       "      <td>1981</td>\n",
       "      <td>12</td>\n",
       "      <td>USA</td>\n",
       "      <td>205</td>\n",
       "      <td>75</td>\n",
       "      <td>R</td>\n",
       "      <td>R</td>\n",
       "      <td>4/6/2004</td>\n",
       "      <td>9/28/2013</td>\n",
       "      <td>2004</td>\n",
       "      <td>2013</td>\n",
       "    </tr>\n",
       "    <tr>\n",
       "      <th>aaronha01</th>\n",
       "      <td>1934</td>\n",
       "      <td>2</td>\n",
       "      <td>USA</td>\n",
       "      <td>180</td>\n",
       "      <td>72</td>\n",
       "      <td>R</td>\n",
       "      <td>R</td>\n",
       "      <td>4/13/1954</td>\n",
       "      <td>10/3/1976</td>\n",
       "      <td>1954</td>\n",
       "      <td>1976</td>\n",
       "    </tr>\n",
       "    <tr>\n",
       "      <th>aaronto01</th>\n",
       "      <td>1939</td>\n",
       "      <td>8</td>\n",
       "      <td>USA</td>\n",
       "      <td>190</td>\n",
       "      <td>75</td>\n",
       "      <td>R</td>\n",
       "      <td>R</td>\n",
       "      <td>4/10/1962</td>\n",
       "      <td>9/26/1971</td>\n",
       "      <td>1962</td>\n",
       "      <td>1971</td>\n",
       "    </tr>\n",
       "    <tr>\n",
       "      <th>aasedo01</th>\n",
       "      <td>1954</td>\n",
       "      <td>9</td>\n",
       "      <td>USA</td>\n",
       "      <td>190</td>\n",
       "      <td>75</td>\n",
       "      <td>R</td>\n",
       "      <td>R</td>\n",
       "      <td>7/26/1977</td>\n",
       "      <td>10/3/1990</td>\n",
       "      <td>1977</td>\n",
       "      <td>1990</td>\n",
       "    </tr>\n",
       "    <tr>\n",
       "      <th>abadan01</th>\n",
       "      <td>1972</td>\n",
       "      <td>8</td>\n",
       "      <td>USA</td>\n",
       "      <td>184</td>\n",
       "      <td>73</td>\n",
       "      <td>L</td>\n",
       "      <td>L</td>\n",
       "      <td>9/10/2001</td>\n",
       "      <td>4/13/2006</td>\n",
       "      <td>2001</td>\n",
       "      <td>2006</td>\n",
       "    </tr>\n",
       "  </tbody>\n",
       "</table>\n",
       "</div>"
      ],
      "text/plain": [
       "           birthYear  birthMonth birthCountry  weight  height bats throws  \\\n",
       "playerID                                                                    \n",
       "aardsda01       1981          12          USA     205      75    R      R   \n",
       "aaronha01       1934           2          USA     180      72    R      R   \n",
       "aaronto01       1939           8          USA     190      75    R      R   \n",
       "aasedo01        1954           9          USA     190      75    R      R   \n",
       "abadan01        1972           8          USA     184      73    L      L   \n",
       "\n",
       "               debut  finalGame  debut_yr  final_yr  \n",
       "playerID                                             \n",
       "aardsda01   4/6/2004  9/28/2013      2004      2013  \n",
       "aaronha01  4/13/1954  10/3/1976      1954      1976  \n",
       "aaronto01  4/10/1962  9/26/1971      1962      1971  \n",
       "aasedo01   7/26/1977  10/3/1990      1977      1990  \n",
       "abadan01   9/10/2001  4/13/2006      2001      2006  "
      ]
     },
     "execution_count": 38,
     "metadata": {},
     "output_type": "execute_result"
    }
   ],
   "source": [
    "# ToDo: Clean-Up the dates into Debut Year and Final Game Year\n",
    "def clean_date(s): \n",
    "    if s[:3].isdigit():\n",
    "        return int(s[:4])\n",
    "    else:\n",
    "        l = len(s)\n",
    "        return int(s[(l-4):l])\n",
    "\n",
    "df_master1['debut_yr'] = df_master1['debut'].apply(clean_date)\n",
    "df_master1['final_yr'] = df_master1['finalGame'].apply(clean_date)\n",
    "\n",
    "df_master1.head(5)"
   ]
  },
  {
   "cell_type": "code",
   "execution_count": 48,
   "metadata": {
    "collapsed": false
   },
   "outputs": [
    {
     "data": {
      "text/plain": [
       "birthYear       float64\n",
       "birthMonth      float64\n",
       "birthCountry     object\n",
       "weight          float64\n",
       "height          float64\n",
       "bats             object\n",
       "throws           object\n",
       "debut            object\n",
       "finalGame        object\n",
       "debut_yr          int64\n",
       "final_yr          int64\n",
       "dtype: object"
      ]
     },
     "execution_count": 48,
     "metadata": {},
     "output_type": "execute_result"
    }
   ],
   "source": [
    "df_master1.dtypes"
   ]
  },
  {
   "cell_type": "code",
   "execution_count": 54,
   "metadata": {
    "collapsed": false
   },
   "outputs": [
    {
     "data": {
      "text/plain": [
       "array([[ 1981.,   205.],\n",
       "       [ 1934.,   180.],\n",
       "       [ 1939.,   190.],\n",
       "       ..., \n",
       "       [ 1958.,   173.],\n",
       "       [ 1924.,   195.],\n",
       "       [ 1888.,   160.]])"
      ]
     },
     "execution_count": 54,
     "metadata": {},
     "output_type": "execute_result"
    }
   ],
   "source": [
    "df_master1[['birthYear', 'weight']].values"
   ]
  },
  {
   "cell_type": "code",
   "execution_count": 56,
   "metadata": {
    "collapsed": false
   },
   "outputs": [
    {
     "data": {
      "image/png": "[encoded data removed]",
      "text/plain": [
       "<matplotlib.figure.Figure at 0x1275b048>"
      ]
     },
     "metadata": {},
     "output_type": "display_data"
    }
   ],
   "source": [
    "plt.plot(df_master1[['birthYear', 'weight']].values)\n",
    "plt.ylabel('some numbers')\n",
    "plt.show()"
   ]
  }
 ],
 "metadata": {
  "kernelspec": {
   "display_name": "Python 2",
   "language": "python",
   "name": "python2"
  },
  "language_info": {
   "codemirror_mode": {
    "name": "ipython",
    "version": 2
   },
   "file_extension": ".py",
   "mimetype": "text/x-python",
   "name": "python",
   "nbconvert_exporter": "python",
   "pygments_lexer": "ipython2",
   "version": "2.7.12"
  }
 },
 "nbformat": 4,
 "nbformat_minor": 0
}
