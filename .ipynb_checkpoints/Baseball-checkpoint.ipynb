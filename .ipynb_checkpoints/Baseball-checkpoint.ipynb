{
 "cells": [
  {
   "cell_type": "markdown",
   "metadata": {},
   "source": [
    "*** Analysis of Sean Lahman Baseball data from 1871 to 2014.***\n",
    "\n",
    "The Data Source was downloaded from www.seanlahman.com.\n",
    "\n",
    "My personal knowledge of Baseball is limited, however, I hope that allows me to analyze the data from a data-centric prespective without preconceptions.\n",
    "\n",
    "Brainstorming Questions for investigation:\n",
    "1. The dataset includes basic player information including birthdate, birth city, height, weight, L/R Handedness, debut date, and final game date.  Which, if any, of these are correlated with a player having won awards.\n",
    "\n",
    "2. How has pitcher's ERA varied with hitter's Batting Average over time?\n"
   ]
  },
  {
   "cell_type": "code",
   "execution_count": 261,
   "metadata": {
    "collapsed": false
   },
   "outputs": [],
   "source": [
    "%matplotlib inline\n",
    "import numpy as np\n",
    "import pandas as pd\n",
    "import matplotlib.pyplot as plt\n",
    "import matplotlib.cm as cm\n",
    "import seaborn as sns"
   ]
  },
  {
   "cell_type": "code",
   "execution_count": 262,
   "metadata": {
    "collapsed": false
   },
   "outputs": [
    {
     "data": {
      "text/plain": [
       "birthYear       float64\n",
       "birthMonth      float64\n",
       "birthDay        float64\n",
       "birthCountry     object\n",
       "birthState       object\n",
       "birthCity        object\n",
       "deathYear       float64\n",
       "deathMonth      float64\n",
       "deathDay        float64\n",
       "deathCountry     object\n",
       "deathState       object\n",
       "deathCity        object\n",
       "nameFirst        object\n",
       "nameLast         object\n",
       "nameGiven        object\n",
       "weight          float64\n",
       "height          float64\n",
       "bats             object\n",
       "throws           object\n",
       "debut            object\n",
       "finalGame        object\n",
       "retroID          object\n",
       "bbrefID          object\n",
       "dtype: object"
      ]
     },
     "execution_count": 262,
     "metadata": {},
     "output_type": "execute_result"
    }
   ],
   "source": [
    "df_master = pd.read_csv(\"master.csv\", index_col='playerID')\n",
    "# Look at the available columns\n",
    "df_master.dtypes"
   ]
  },
  {
   "cell_type": "code",
   "execution_count": 263,
   "metadata": {
    "collapsed": false
   },
   "outputs": [
    {
     "data": {
      "text/html": [
       "<div>\n",
       "<table border=\"1\" class=\"dataframe\">\n",
       "  <thead>\n",
       "    <tr style=\"text-align: right;\">\n",
       "      <th></th>\n",
       "      <th>birthYear</th>\n",
       "      <th>birthMonth</th>\n",
       "      <th>birthCountry</th>\n",
       "      <th>weight</th>\n",
       "      <th>height</th>\n",
       "      <th>bats</th>\n",
       "      <th>throws</th>\n",
       "      <th>debut</th>\n",
       "      <th>finalGame</th>\n",
       "    </tr>\n",
       "    <tr>\n",
       "      <th>playerID</th>\n",
       "      <th></th>\n",
       "      <th></th>\n",
       "      <th></th>\n",
       "      <th></th>\n",
       "      <th></th>\n",
       "      <th></th>\n",
       "      <th></th>\n",
       "      <th></th>\n",
       "      <th></th>\n",
       "    </tr>\n",
       "  </thead>\n",
       "  <tbody>\n",
       "    <tr>\n",
       "      <th>aardsda01</th>\n",
       "      <td>1981</td>\n",
       "      <td>12</td>\n",
       "      <td>USA</td>\n",
       "      <td>205</td>\n",
       "      <td>75</td>\n",
       "      <td>R</td>\n",
       "      <td>R</td>\n",
       "      <td>4/6/2004</td>\n",
       "      <td>9/28/2013</td>\n",
       "    </tr>\n",
       "    <tr>\n",
       "      <th>aaronha01</th>\n",
       "      <td>1934</td>\n",
       "      <td>2</td>\n",
       "      <td>USA</td>\n",
       "      <td>180</td>\n",
       "      <td>72</td>\n",
       "      <td>R</td>\n",
       "      <td>R</td>\n",
       "      <td>4/13/1954</td>\n",
       "      <td>10/3/1976</td>\n",
       "    </tr>\n",
       "    <tr>\n",
       "      <th>aaronto01</th>\n",
       "      <td>1939</td>\n",
       "      <td>8</td>\n",
       "      <td>USA</td>\n",
       "      <td>190</td>\n",
       "      <td>75</td>\n",
       "      <td>R</td>\n",
       "      <td>R</td>\n",
       "      <td>4/10/1962</td>\n",
       "      <td>9/26/1971</td>\n",
       "    </tr>\n",
       "    <tr>\n",
       "      <th>aasedo01</th>\n",
       "      <td>1954</td>\n",
       "      <td>9</td>\n",
       "      <td>USA</td>\n",
       "      <td>190</td>\n",
       "      <td>75</td>\n",
       "      <td>R</td>\n",
       "      <td>R</td>\n",
       "      <td>7/26/1977</td>\n",
       "      <td>10/3/1990</td>\n",
       "    </tr>\n",
       "    <tr>\n",
       "      <th>abadan01</th>\n",
       "      <td>1972</td>\n",
       "      <td>8</td>\n",
       "      <td>USA</td>\n",
       "      <td>184</td>\n",
       "      <td>73</td>\n",
       "      <td>L</td>\n",
       "      <td>L</td>\n",
       "      <td>9/10/2001</td>\n",
       "      <td>4/13/2006</td>\n",
       "    </tr>\n",
       "    <tr>\n",
       "      <th>abadfe01</th>\n",
       "      <td>1985</td>\n",
       "      <td>12</td>\n",
       "      <td>D.R.</td>\n",
       "      <td>220</td>\n",
       "      <td>73</td>\n",
       "      <td>L</td>\n",
       "      <td>L</td>\n",
       "      <td>7/28/2010</td>\n",
       "      <td>9/27/2014</td>\n",
       "    </tr>\n",
       "    <tr>\n",
       "      <th>abadijo01</th>\n",
       "      <td>1854</td>\n",
       "      <td>11</td>\n",
       "      <td>USA</td>\n",
       "      <td>192</td>\n",
       "      <td>72</td>\n",
       "      <td>R</td>\n",
       "      <td>R</td>\n",
       "      <td>1875-04-26</td>\n",
       "      <td>1875-06-10</td>\n",
       "    </tr>\n",
       "    <tr>\n",
       "      <th>abbated01</th>\n",
       "      <td>1877</td>\n",
       "      <td>4</td>\n",
       "      <td>USA</td>\n",
       "      <td>170</td>\n",
       "      <td>71</td>\n",
       "      <td>R</td>\n",
       "      <td>R</td>\n",
       "      <td>1897-09-04</td>\n",
       "      <td>9/15/1910</td>\n",
       "    </tr>\n",
       "    <tr>\n",
       "      <th>abbeybe01</th>\n",
       "      <td>1869</td>\n",
       "      <td>11</td>\n",
       "      <td>USA</td>\n",
       "      <td>175</td>\n",
       "      <td>71</td>\n",
       "      <td>R</td>\n",
       "      <td>R</td>\n",
       "      <td>1892-06-14</td>\n",
       "      <td>1896-09-23</td>\n",
       "    </tr>\n",
       "    <tr>\n",
       "      <th>abbeych01</th>\n",
       "      <td>1866</td>\n",
       "      <td>10</td>\n",
       "      <td>USA</td>\n",
       "      <td>169</td>\n",
       "      <td>68</td>\n",
       "      <td>L</td>\n",
       "      <td>L</td>\n",
       "      <td>1893-08-16</td>\n",
       "      <td>1897-08-19</td>\n",
       "    </tr>\n",
       "  </tbody>\n",
       "</table>\n",
       "</div>"
      ],
      "text/plain": [
       "           birthYear  birthMonth birthCountry  weight  height bats throws  \\\n",
       "playerID                                                                    \n",
       "aardsda01       1981          12          USA     205      75    R      R   \n",
       "aaronha01       1934           2          USA     180      72    R      R   \n",
       "aaronto01       1939           8          USA     190      75    R      R   \n",
       "aasedo01        1954           9          USA     190      75    R      R   \n",
       "abadan01        1972           8          USA     184      73    L      L   \n",
       "abadfe01        1985          12         D.R.     220      73    L      L   \n",
       "abadijo01       1854          11          USA     192      72    R      R   \n",
       "abbated01       1877           4          USA     170      71    R      R   \n",
       "abbeybe01       1869          11          USA     175      71    R      R   \n",
       "abbeych01       1866          10          USA     169      68    L      L   \n",
       "\n",
       "                debut   finalGame  \n",
       "playerID                           \n",
       "aardsda01    4/6/2004   9/28/2013  \n",
       "aaronha01   4/13/1954   10/3/1976  \n",
       "aaronto01   4/10/1962   9/26/1971  \n",
       "aasedo01    7/26/1977   10/3/1990  \n",
       "abadan01    9/10/2001   4/13/2006  \n",
       "abadfe01    7/28/2010   9/27/2014  \n",
       "abadijo01  1875-04-26  1875-06-10  \n",
       "abbated01  1897-09-04   9/15/1910  \n",
       "abbeybe01  1892-06-14  1896-09-23  \n",
       "abbeych01  1893-08-16  1897-08-19  "
      ]
     },
     "execution_count": 263,
     "metadata": {},
     "output_type": "execute_result"
    }
   ],
   "source": [
    "# Select the features we want to look for correlation\n",
    "# Filter players with missing information\n",
    "df_master1 = df_master[['birthYear', 'birthMonth', 'birthCountry', 'weight', 'height',\\\n",
    "           'bats', 'throws', 'debut', 'finalGame' ]].dropna(axis =0)\n",
    "df_master1.head(10)"
   ]
  },
  {
   "cell_type": "code",
   "execution_count": 264,
   "metadata": {
    "collapsed": false
   },
   "outputs": [
    {
     "data": {
      "text/html": [
       "<div>\n",
       "<table border=\"1\" class=\"dataframe\">\n",
       "  <thead>\n",
       "    <tr style=\"text-align: right;\">\n",
       "      <th></th>\n",
       "      <th>birthYear</th>\n",
       "      <th>birthMonth</th>\n",
       "      <th>birthCountry</th>\n",
       "      <th>weight</th>\n",
       "      <th>height</th>\n",
       "      <th>bats</th>\n",
       "      <th>throws</th>\n",
       "      <th>debut</th>\n",
       "      <th>finalGame</th>\n",
       "      <th>debut_yr</th>\n",
       "      <th>final_yr</th>\n",
       "    </tr>\n",
       "    <tr>\n",
       "      <th>playerID</th>\n",
       "      <th></th>\n",
       "      <th></th>\n",
       "      <th></th>\n",
       "      <th></th>\n",
       "      <th></th>\n",
       "      <th></th>\n",
       "      <th></th>\n",
       "      <th></th>\n",
       "      <th></th>\n",
       "      <th></th>\n",
       "      <th></th>\n",
       "    </tr>\n",
       "  </thead>\n",
       "  <tbody>\n",
       "    <tr>\n",
       "      <th>aardsda01</th>\n",
       "      <td>1981</td>\n",
       "      <td>12</td>\n",
       "      <td>USA</td>\n",
       "      <td>205</td>\n",
       "      <td>75</td>\n",
       "      <td>R</td>\n",
       "      <td>R</td>\n",
       "      <td>4/6/2004</td>\n",
       "      <td>9/28/2013</td>\n",
       "      <td>2004</td>\n",
       "      <td>2013</td>\n",
       "    </tr>\n",
       "    <tr>\n",
       "      <th>aaronha01</th>\n",
       "      <td>1934</td>\n",
       "      <td>2</td>\n",
       "      <td>USA</td>\n",
       "      <td>180</td>\n",
       "      <td>72</td>\n",
       "      <td>R</td>\n",
       "      <td>R</td>\n",
       "      <td>4/13/1954</td>\n",
       "      <td>10/3/1976</td>\n",
       "      <td>1954</td>\n",
       "      <td>1976</td>\n",
       "    </tr>\n",
       "    <tr>\n",
       "      <th>aaronto01</th>\n",
       "      <td>1939</td>\n",
       "      <td>8</td>\n",
       "      <td>USA</td>\n",
       "      <td>190</td>\n",
       "      <td>75</td>\n",
       "      <td>R</td>\n",
       "      <td>R</td>\n",
       "      <td>4/10/1962</td>\n",
       "      <td>9/26/1971</td>\n",
       "      <td>1962</td>\n",
       "      <td>1971</td>\n",
       "    </tr>\n",
       "    <tr>\n",
       "      <th>aasedo01</th>\n",
       "      <td>1954</td>\n",
       "      <td>9</td>\n",
       "      <td>USA</td>\n",
       "      <td>190</td>\n",
       "      <td>75</td>\n",
       "      <td>R</td>\n",
       "      <td>R</td>\n",
       "      <td>7/26/1977</td>\n",
       "      <td>10/3/1990</td>\n",
       "      <td>1977</td>\n",
       "      <td>1990</td>\n",
       "    </tr>\n",
       "    <tr>\n",
       "      <th>abadan01</th>\n",
       "      <td>1972</td>\n",
       "      <td>8</td>\n",
       "      <td>USA</td>\n",
       "      <td>184</td>\n",
       "      <td>73</td>\n",
       "      <td>L</td>\n",
       "      <td>L</td>\n",
       "      <td>9/10/2001</td>\n",
       "      <td>4/13/2006</td>\n",
       "      <td>2001</td>\n",
       "      <td>2006</td>\n",
       "    </tr>\n",
       "  </tbody>\n",
       "</table>\n",
       "</div>"
      ],
      "text/plain": [
       "           birthYear  birthMonth birthCountry  weight  height bats throws  \\\n",
       "playerID                                                                    \n",
       "aardsda01       1981          12          USA     205      75    R      R   \n",
       "aaronha01       1934           2          USA     180      72    R      R   \n",
       "aaronto01       1939           8          USA     190      75    R      R   \n",
       "aasedo01        1954           9          USA     190      75    R      R   \n",
       "abadan01        1972           8          USA     184      73    L      L   \n",
       "\n",
       "               debut  finalGame  debut_yr  final_yr  \n",
       "playerID                                             \n",
       "aardsda01   4/6/2004  9/28/2013      2004      2013  \n",
       "aaronha01  4/13/1954  10/3/1976      1954      1976  \n",
       "aaronto01  4/10/1962  9/26/1971      1962      1971  \n",
       "aasedo01   7/26/1977  10/3/1990      1977      1990  \n",
       "abadan01   9/10/2001  4/13/2006      2001      2006  "
      ]
     },
     "execution_count": 264,
     "metadata": {},
     "output_type": "execute_result"
    }
   ],
   "source": [
    "# ToDo: Clean-Up the dates into Debut Year and Final Game Year\n",
    "def clean_date(s): \n",
    "    if s[:3].isdigit():\n",
    "        return int(s[:4])\n",
    "    else:\n",
    "        l = len(s)\n",
    "        return int(s[(l-4):l])\n",
    "\n",
    "df_master1['debut_yr'] = df_master1['debut'].apply(clean_date)\n",
    "df_master1['final_yr'] = df_master1['finalGame'].apply(clean_date)\n",
    "\n",
    "df_master1.head(5)"
   ]
  },
  {
   "cell_type": "markdown",
   "metadata": {},
   "source": [
    "Refine the Independent variables.\n",
    "\n",
    "debut_yr and final_yr are correlated with birthYear.  The more interesting variable is years played.\n",
    "\n",
    "Also, let's convert country, bats, and throws to a numeric scale to simplify the analysis\n",
    "- Country: USA = 1, Other = 0\n",
    "- bats/throws: R = +1, B = 0, L = -1"
   ]
  },
  {
   "cell_type": "code",
   "execution_count": 265,
   "metadata": {
    "collapsed": false
   },
   "outputs": [
    {
     "data": {
      "text/html": [
       "<div>\n",
       "<table border=\"1\" class=\"dataframe\">\n",
       "  <thead>\n",
       "    <tr style=\"text-align: right;\">\n",
       "      <th></th>\n",
       "      <th>birthYear</th>\n",
       "      <th>birthMonth</th>\n",
       "      <th>birthCountry</th>\n",
       "      <th>weight</th>\n",
       "      <th>height</th>\n",
       "      <th>bats</th>\n",
       "      <th>throws</th>\n",
       "      <th>debut</th>\n",
       "      <th>finalGame</th>\n",
       "      <th>debut_yr</th>\n",
       "      <th>final_yr</th>\n",
       "      <th>yearsPlayed</th>\n",
       "      <th>country_num</th>\n",
       "      <th>bats_num</th>\n",
       "      <th>throws_num</th>\n",
       "    </tr>\n",
       "    <tr>\n",
       "      <th>playerID</th>\n",
       "      <th></th>\n",
       "      <th></th>\n",
       "      <th></th>\n",
       "      <th></th>\n",
       "      <th></th>\n",
       "      <th></th>\n",
       "      <th></th>\n",
       "      <th></th>\n",
       "      <th></th>\n",
       "      <th></th>\n",
       "      <th></th>\n",
       "      <th></th>\n",
       "      <th></th>\n",
       "      <th></th>\n",
       "      <th></th>\n",
       "    </tr>\n",
       "  </thead>\n",
       "  <tbody>\n",
       "    <tr>\n",
       "      <th>aardsda01</th>\n",
       "      <td>1981</td>\n",
       "      <td>12</td>\n",
       "      <td>USA</td>\n",
       "      <td>205</td>\n",
       "      <td>75</td>\n",
       "      <td>R</td>\n",
       "      <td>R</td>\n",
       "      <td>4/6/2004</td>\n",
       "      <td>9/28/2013</td>\n",
       "      <td>2004</td>\n",
       "      <td>2013</td>\n",
       "      <td>9</td>\n",
       "      <td>1</td>\n",
       "      <td>1</td>\n",
       "      <td>1</td>\n",
       "    </tr>\n",
       "    <tr>\n",
       "      <th>aaronha01</th>\n",
       "      <td>1934</td>\n",
       "      <td>2</td>\n",
       "      <td>USA</td>\n",
       "      <td>180</td>\n",
       "      <td>72</td>\n",
       "      <td>R</td>\n",
       "      <td>R</td>\n",
       "      <td>4/13/1954</td>\n",
       "      <td>10/3/1976</td>\n",
       "      <td>1954</td>\n",
       "      <td>1976</td>\n",
       "      <td>22</td>\n",
       "      <td>1</td>\n",
       "      <td>1</td>\n",
       "      <td>1</td>\n",
       "    </tr>\n",
       "    <tr>\n",
       "      <th>aaronto01</th>\n",
       "      <td>1939</td>\n",
       "      <td>8</td>\n",
       "      <td>USA</td>\n",
       "      <td>190</td>\n",
       "      <td>75</td>\n",
       "      <td>R</td>\n",
       "      <td>R</td>\n",
       "      <td>4/10/1962</td>\n",
       "      <td>9/26/1971</td>\n",
       "      <td>1962</td>\n",
       "      <td>1971</td>\n",
       "      <td>9</td>\n",
       "      <td>1</td>\n",
       "      <td>1</td>\n",
       "      <td>1</td>\n",
       "    </tr>\n",
       "    <tr>\n",
       "      <th>aasedo01</th>\n",
       "      <td>1954</td>\n",
       "      <td>9</td>\n",
       "      <td>USA</td>\n",
       "      <td>190</td>\n",
       "      <td>75</td>\n",
       "      <td>R</td>\n",
       "      <td>R</td>\n",
       "      <td>7/26/1977</td>\n",
       "      <td>10/3/1990</td>\n",
       "      <td>1977</td>\n",
       "      <td>1990</td>\n",
       "      <td>13</td>\n",
       "      <td>1</td>\n",
       "      <td>1</td>\n",
       "      <td>1</td>\n",
       "    </tr>\n",
       "    <tr>\n",
       "      <th>abadan01</th>\n",
       "      <td>1972</td>\n",
       "      <td>8</td>\n",
       "      <td>USA</td>\n",
       "      <td>184</td>\n",
       "      <td>73</td>\n",
       "      <td>L</td>\n",
       "      <td>L</td>\n",
       "      <td>9/10/2001</td>\n",
       "      <td>4/13/2006</td>\n",
       "      <td>2001</td>\n",
       "      <td>2006</td>\n",
       "      <td>5</td>\n",
       "      <td>1</td>\n",
       "      <td>-1</td>\n",
       "      <td>-1</td>\n",
       "    </tr>\n",
       "  </tbody>\n",
       "</table>\n",
       "</div>"
      ],
      "text/plain": [
       "           birthYear  birthMonth birthCountry  weight  height bats throws  \\\n",
       "playerID                                                                    \n",
       "aardsda01       1981          12          USA     205      75    R      R   \n",
       "aaronha01       1934           2          USA     180      72    R      R   \n",
       "aaronto01       1939           8          USA     190      75    R      R   \n",
       "aasedo01        1954           9          USA     190      75    R      R   \n",
       "abadan01        1972           8          USA     184      73    L      L   \n",
       "\n",
       "               debut  finalGame  debut_yr  final_yr  yearsPlayed  country_num  \\\n",
       "playerID                                                                        \n",
       "aardsda01   4/6/2004  9/28/2013      2004      2013            9            1   \n",
       "aaronha01  4/13/1954  10/3/1976      1954      1976           22            1   \n",
       "aaronto01  4/10/1962  9/26/1971      1962      1971            9            1   \n",
       "aasedo01   7/26/1977  10/3/1990      1977      1990           13            1   \n",
       "abadan01   9/10/2001  4/13/2006      2001      2006            5            1   \n",
       "\n",
       "           bats_num  throws_num  \n",
       "playerID                         \n",
       "aardsda01         1           1  \n",
       "aaronha01         1           1  \n",
       "aaronto01         1           1  \n",
       "aasedo01          1           1  \n",
       "abadan01         -1          -1  "
      ]
     },
     "execution_count": 265,
     "metadata": {},
     "output_type": "execute_result"
    }
   ],
   "source": [
    "df_master1['yearsPlayed'] = df_master1['final_yr'] - df_master1['debut_yr']\n",
    "df_master1['country_num'] = df_master1['birthCountry'].apply(lambda s: 1 if s=='USA' else 0)\n",
    "df_master1['bats_num'] = df_master1['bats'].apply(lambda s: -1 if s=='L' else 1 if s=='R' else 0)\n",
    "df_master1['throws_num'] = df_master1['throws'].apply(lambda s: -1 if s=='L' else 1)\n",
    "df_master1.head(5)"
   ]
  },
  {
   "cell_type": "markdown",
   "metadata": {},
   "source": [
    "Next we identify the players that have won awards vs. no awards.\n",
    "\n",
    "Import the awards Dataframe, and join it to the master Dataframe"
   ]
  },
  {
   "cell_type": "code",
   "execution_count": 266,
   "metadata": {
    "collapsed": false
   },
   "outputs": [
    {
     "data": {
      "text/html": [
       "<div>\n",
       "<table border=\"1\" class=\"dataframe\">\n",
       "  <thead>\n",
       "    <tr style=\"text-align: right;\">\n",
       "      <th></th>\n",
       "      <th>birthYear</th>\n",
       "      <th>birthMonth</th>\n",
       "      <th>birthCountry</th>\n",
       "      <th>weight</th>\n",
       "      <th>height</th>\n",
       "      <th>bats_num</th>\n",
       "      <th>throws_num</th>\n",
       "      <th>yearsPlayed</th>\n",
       "      <th>wonAward</th>\n",
       "    </tr>\n",
       "    <tr>\n",
       "      <th>playerID</th>\n",
       "      <th></th>\n",
       "      <th></th>\n",
       "      <th></th>\n",
       "      <th></th>\n",
       "      <th></th>\n",
       "      <th></th>\n",
       "      <th></th>\n",
       "      <th></th>\n",
       "      <th></th>\n",
       "    </tr>\n",
       "  </thead>\n",
       "  <tbody>\n",
       "    <tr>\n",
       "      <th>aardsda01</th>\n",
       "      <td>1981</td>\n",
       "      <td>12</td>\n",
       "      <td>USA</td>\n",
       "      <td>205</td>\n",
       "      <td>75</td>\n",
       "      <td>1</td>\n",
       "      <td>1</td>\n",
       "      <td>9</td>\n",
       "      <td>NaN</td>\n",
       "    </tr>\n",
       "    <tr>\n",
       "      <th>aaronha01</th>\n",
       "      <td>1934</td>\n",
       "      <td>2</td>\n",
       "      <td>USA</td>\n",
       "      <td>180</td>\n",
       "      <td>72</td>\n",
       "      <td>1</td>\n",
       "      <td>1</td>\n",
       "      <td>22</td>\n",
       "      <td>True</td>\n",
       "    </tr>\n",
       "    <tr>\n",
       "      <th>aaronto01</th>\n",
       "      <td>1939</td>\n",
       "      <td>8</td>\n",
       "      <td>USA</td>\n",
       "      <td>190</td>\n",
       "      <td>75</td>\n",
       "      <td>1</td>\n",
       "      <td>1</td>\n",
       "      <td>9</td>\n",
       "      <td>NaN</td>\n",
       "    </tr>\n",
       "    <tr>\n",
       "      <th>aasedo01</th>\n",
       "      <td>1954</td>\n",
       "      <td>9</td>\n",
       "      <td>USA</td>\n",
       "      <td>190</td>\n",
       "      <td>75</td>\n",
       "      <td>1</td>\n",
       "      <td>1</td>\n",
       "      <td>13</td>\n",
       "      <td>NaN</td>\n",
       "    </tr>\n",
       "    <tr>\n",
       "      <th>abadan01</th>\n",
       "      <td>1972</td>\n",
       "      <td>8</td>\n",
       "      <td>USA</td>\n",
       "      <td>184</td>\n",
       "      <td>73</td>\n",
       "      <td>-1</td>\n",
       "      <td>-1</td>\n",
       "      <td>5</td>\n",
       "      <td>NaN</td>\n",
       "    </tr>\n",
       "  </tbody>\n",
       "</table>\n",
       "</div>"
      ],
      "text/plain": [
       "           birthYear  birthMonth birthCountry  weight  height  bats_num  \\\n",
       "playerID                                                                  \n",
       "aardsda01       1981          12          USA     205      75         1   \n",
       "aaronha01       1934           2          USA     180      72         1   \n",
       "aaronto01       1939           8          USA     190      75         1   \n",
       "aasedo01        1954           9          USA     190      75         1   \n",
       "abadan01        1972           8          USA     184      73        -1   \n",
       "\n",
       "           throws_num  yearsPlayed wonAward  \n",
       "playerID                                     \n",
       "aardsda01           1            9      NaN  \n",
       "aaronha01           1           22     True  \n",
       "aaronto01           1            9      NaN  \n",
       "aasedo01            1           13      NaN  \n",
       "abadan01           -1            5      NaN  "
      ]
     },
     "execution_count": 266,
     "metadata": {},
     "output_type": "execute_result"
    }
   ],
   "source": [
    "df_awards = pd.read_csv(\"AwardsPlayers.csv\", index_col='playerID')\n",
    "# Since we want to look as any awards, add a wonAward boolean\n",
    "df_awards['wonAward'] = True\n",
    "\n",
    "# Join the Dataframes and create a new Dataframe with just the key information\n",
    "df_master2 = df_master1.join(df_awards['wonAward'])\\\n",
    "                .drop_duplicates()[['birthYear', 'birthMonth', 'birthCountry', 'weight',\\\n",
    "                                    'height', 'bats_num', 'throws_num', 'yearsPlayed', 'wonAward']]\n",
    "df_master2.head(5)"
   ]
  },
  {
   "cell_type": "code",
   "execution_count": 267,
   "metadata": {
    "collapsed": false
   },
   "outputs": [
    {
     "name": "stdout",
     "output_type": "stream",
     "text": [
      "Players with Awards\n",
      "         birthYear   birthMonth       weight       height     bats_num  \\\n",
      "count  1305.000000  1305.000000  1305.000000  1305.000000  1305.000000   \n",
      "mean   1941.071264     6.657471   189.891188    72.652107     0.352490   \n",
      "std      31.812000     3.387532    21.530983     2.361835     0.892133   \n",
      "min    1854.000000     1.000000   125.000000    65.000000    -1.000000   \n",
      "25%    1916.000000     4.000000   175.000000    71.000000    -1.000000   \n",
      "50%    1947.000000     7.000000   185.000000    73.000000     1.000000   \n",
      "75%    1967.000000    10.000000   200.000000    74.000000     1.000000   \n",
      "max    1992.000000    12.000000   295.000000    82.000000     1.000000   \n",
      "\n",
      "        throws_num  yearsPlayed  \n",
      "count  1305.000000  1305.000000  \n",
      "mean      0.627586    13.173180  \n",
      "std       0.778846     4.620976  \n",
      "min      -1.000000     0.000000  \n",
      "25%       1.000000    10.000000  \n",
      "50%       1.000000    13.000000  \n",
      "75%       1.000000    16.000000  \n",
      "max       1.000000    31.000000  \n",
      "\n",
      " All Players\n",
      "          birthYear    birthMonth        weight        height      bats_num  \\\n",
      "count  16970.000000  16970.000000  16970.000000  16970.000000  16970.000000   \n",
      "mean    1935.160695      6.634119    186.299823     72.353565      0.379788   \n",
      "std       37.848612      3.463925     20.829660      2.548979      0.888546   \n",
      "min     1835.000000      1.000000     65.000000     43.000000     -1.000000   \n",
      "25%     1902.000000      4.000000    170.000000     71.000000     -1.000000   \n",
      "50%     1941.000000      7.000000    185.000000     72.000000      1.000000   \n",
      "75%     1969.000000     10.000000    200.000000     74.000000      1.000000   \n",
      "max     1994.000000     12.000000    320.000000     83.000000      1.000000   \n",
      "\n",
      "         throws_num   yearsPlayed  \n",
      "count  16970.000000  16970.000000  \n",
      "mean       0.597643      5.008898  \n",
      "std        0.801786      5.076965  \n",
      "min       -1.000000      0.000000  \n",
      "25%        1.000000      1.000000  \n",
      "50%        1.000000      4.000000  \n",
      "75%        1.000000      8.000000  \n",
      "max        1.000000     35.000000  \n"
     ]
    }
   ],
   "source": [
    "df_won = df_master2[(df_master2['wonAward'] == True)]\n",
    "df_notWon = df_master2[(df_master2['wonAward'] != True)]\n",
    "\n",
    "print 'Players with Awards'\n",
    "print df_won.describe()\n",
    "print '\\n All Players'\n",
    "print df_master2.describe()"
   ]
  },
  {
   "cell_type": "markdown",
   "metadata": {},
   "source": [
    "*** Analysis ***\n",
    "\n",
    "Only 7.7% of all players have won awards.\n",
    "\n",
    "The following table compares the Won-Award Players to the population of all players\n",
    "\n",
    "<img src=\"Picture2.png\" />\n",
    "\n",
    "From this analysis, the evidence supports that Players who have won awards are:\n",
    "- Born Later (need to check if awards/players increased over time)\n",
    "- Bigger (weigh more and are taller)  Although significant, it is import that this does not imply causation.\n",
    "- Play longer (It is expected that better players play longer.  Histograms areshown next)\n",
    "\n",
    "Although Players with awards are slightly more left-handed at batting and throwing, the p-values are only 0.2672\t0.1648 respectively and are not stistically significant.\n",
    "\n",
    "Birth Month is also consistent between players with awards to all players.  (I included this because there are studies showing a link in birth month for Canadian hockey players due to league cut-offs in childrens leagues.  This is not supported for Baseball players.)\n",
    "\n"
   ]
  },
  {
   "cell_type": "code",
   "execution_count": 268,
   "metadata": {
    "collapsed": false
   },
   "outputs": [
    {
     "data": {
      "image/png": "[encoded data removed]",
      "text/plain": [
       "<matplotlib.figure.Figure at 0xf50c828>"
      ]
     },
     "metadata": {},
     "output_type": "display_data"
    }
   ],
   "source": [
    "############################\n",
    "# Histogram of Years Played by Players who have won Awards\n",
    "#\n",
    "plt.hist(df_won['yearsPlayed'],histtype='bar', bins = 30, range=(0,30), color ='b')\n",
    "plt.xlabel('Years Played')\n",
    "plt.ylabel('# of Players')\n",
    "plt.title('Players with Awards')\n",
    "plt.show()"
   ]
  },
  {
   "cell_type": "markdown",
   "metadata": {},
   "source": [
    "The distribution for Players with Awards (shown above) is close to a normal distribtion which is expected."
   ]
  },
  {
   "cell_type": "code",
   "execution_count": 269,
   "metadata": {
    "collapsed": false
   },
   "outputs": [
    {
     "data": {
      "image/png": "[encoded data removed]",
      "text/plain": [
       "<matplotlib.figure.Figure at 0xf506eb8>"
      ]
     },
     "metadata": {},
     "output_type": "display_data"
    }
   ],
   "source": [
    "############################\n",
    "# Histogram of Years Played For All Players\n",
    "#\n",
    "plt.hist(df_master2['yearsPlayed'],histtype='bar', bins = 30, range=(0,30), color ='c')\n",
    "plt.xlabel('Years Played')\n",
    "plt.ylabel('# of Players')\n",
    "plt.title('All Players')\n",
    "plt.show()"
   ]
  },
  {
   "cell_type": "markdown",
   "metadata": {},
   "source": [
    "The distribution for All Players (shown above) is the oppposite with hyperbolic distribtion.\n",
    "\n",
    "The next histograms compare the distribution of birth year\n"
   ]
  },
  {
   "cell_type": "code",
   "execution_count": 270,
   "metadata": {
    "collapsed": false
   },
   "outputs": [
    {
     "data": {
      "image/png": "[encoded data removed]",
      "text/plain": [
       "<matplotlib.figure.Figure at 0xf5067f0>"
      ]
     },
     "metadata": {},
     "output_type": "display_data"
    }
   ],
   "source": [
    "############################\n",
    "# Histogram of Birth Year by Players who have won Awards\n",
    "#\n",
    "plt.hist(df_won['birthYear'],histtype='bar', bins = 50,color ='b')\n",
    "plt.xlabel('Birth Year')\n",
    "plt.ylabel('# of Players')\n",
    "plt.title('Players with Awards')\n",
    "plt.show()"
   ]
  },
  {
   "cell_type": "code",
   "execution_count": 271,
   "metadata": {
    "collapsed": false
   },
   "outputs": [
    {
     "data": {
      "image/png": "[encoded data removed]",
      "text/plain": [
       "<matplotlib.figure.Figure at 0xf47fb70>"
      ]
     },
     "metadata": {},
     "output_type": "display_data"
    }
   ],
   "source": [
    "############################\n",
    "# Histogram of Birth Year For All Players\n",
    "#\n",
    "plt.hist(df_master2['birthYear'],histtype='bar', bins = 50, color ='c')\n",
    "plt.xlabel('Birth Year')\n",
    "plt.ylabel('# of Players')\n",
    "plt.title('All Players')\n",
    "plt.show()"
   ]
  },
  {
   "cell_type": "markdown",
   "metadata": {},
   "source": [
    "Both histograms for Players with Awards and All Players have similar distributions"
   ]
  },
  {
   "cell_type": "code",
   "execution_count": 272,
   "metadata": {
    "collapsed": false
   },
   "outputs": [
    {
     "data": {
      "text/html": [
       "<div>\n",
       "<table border=\"1\" class=\"dataframe\">\n",
       "  <thead>\n",
       "    <tr style=\"text-align: right;\">\n",
       "      <th></th>\n",
       "      <th>ERA</th>\n",
       "      <th>R_per_AB</th>\n",
       "    </tr>\n",
       "    <tr>\n",
       "      <th>yearID</th>\n",
       "      <th></th>\n",
       "      <th></th>\n",
       "    </tr>\n",
       "  </thead>\n",
       "  <tbody>\n",
       "    <tr>\n",
       "      <th>1871</th>\n",
       "      <td>5.991579</td>\n",
       "      <td>0.245703</td>\n",
       "    </tr>\n",
       "    <tr>\n",
       "      <th>1872</th>\n",
       "      <td>4.798696</td>\n",
       "      <td>0.216213</td>\n",
       "    </tr>\n",
       "    <tr>\n",
       "      <th>1873</th>\n",
       "      <td>4.315600</td>\n",
       "      <td>0.210911</td>\n",
       "    </tr>\n",
       "    <tr>\n",
       "      <th>1874</th>\n",
       "      <td>4.899412</td>\n",
       "      <td>0.181637</td>\n",
       "    </tr>\n",
       "    <tr>\n",
       "      <th>1875</th>\n",
       "      <td>4.239149</td>\n",
       "      <td>0.157791</td>\n",
       "    </tr>\n",
       "  </tbody>\n",
       "</table>\n",
       "</div>"
      ],
      "text/plain": [
       "             ERA  R_per_AB\n",
       "yearID                    \n",
       "1871    5.991579  0.245703\n",
       "1872    4.798696  0.216213\n",
       "1873    4.315600  0.210911\n",
       "1874    4.899412  0.181637\n",
       "1875    4.239149  0.157791"
      ]
     },
     "execution_count": 272,
     "metadata": {},
     "output_type": "execute_result"
    }
   ],
   "source": [
    "#  Import the pitching data\n",
    "df_pitching = pd.read_csv(\"pitching.csv\")\n",
    "# Get the Average ERA for each year\n",
    "df_ERA_byYear = df_pitching[['ERA', 'yearID']].groupby('yearID').mean()\n",
    "\n",
    "#  Get the Batting data\n",
    "df_Batting = pd.read_csv(\"Batting.csv\")\n",
    "\n",
    "# Runs per At Bats should a better metic than batting average\n",
    "df_runs_byYear = df_Batting[['R','AB','yearID']].groupby('yearID').sum()\n",
    "df_runs_byYear['R_per_AB'] = df_runs_byYear['R'] / df_runs_byYear['AB']\n",
    "\n",
    "# Joint the data to make a single df with the information we need\n",
    "df_ERA_R_AB = df_ERA_byYear.join(df_runs_byYear['R_per_AB'])\n",
    "df_ERA_R_AB.head()"
   ]
  },
  {
   "cell_type": "code",
   "execution_count": 325,
   "metadata": {
    "collapsed": false
   },
   "outputs": [
    {
     "data": {
      "image/png": "[encoded data removed]",
      "text/plain": [
       "<matplotlib.figure.Figure at 0xec8c588>"
      ]
     },
     "metadata": {},
     "output_type": "display_data"
    }
   ],
   "source": [
    "############################\n",
    "# Scatter Plot of ERA vs. Runs / At bats\n",
    "#\n",
    "#  Scale the plot to drop the outliers\n",
    "\n",
    "def plot_scatter(df, max_x, max_y, min_Year, max_Year):\n",
    "    # Filter the Dataframe\n",
    "    dfx = df['ERA'][(df['R_per_AB'] < max_y) & (df['ERA'] < max_x) ]\n",
    "    dfx = dfx.loc[dfx.index <= max_Year]\n",
    "    dfx = dfx.loc[dfx.index >= min_Year]\n",
    "    dfy = df['R_per_AB'][(df['R_per_AB'] < max_y) & (df['ERA'] < max_x)]\n",
    "    dfy = dfy.loc[dfy.index <= max_Year]\n",
    "    dfy = dfy.loc[dfy.index >= min_Year]\n",
    "\n",
    "    plt.scatter(dfx, dfy, c = dfx.index.tolist(),cmap=cm.rainbow)\n",
    "    plt.xlabel('ERA')\n",
    "    plt.ylabel('Runs / At Bats')\n",
    "    plt.title('Years '+ str(min_Year) + ' to ' + str(max_Year))\n",
    "    clb = plt.colorbar()\n",
    "    clb.ax.set_title('YEAR')\n",
    "    plt.show()\n",
    "\n",
    "def pearsons_r(df, min_Year, max_Year):\n",
    "    # Filter the Dataframe\n",
    "    df = df.loc[df.index <= max_Year]\n",
    "    df = df.loc[df.index >= min_Year]\n",
    "    return df.corr()\n",
    "\n",
    "plot_scatter(df_ERA_R_AB, 7.0, 0.2, 1871, 2014)\n"
   ]
  },
  {
   "cell_type": "code",
   "execution_count": 310,
   "metadata": {
    "collapsed": false
   },
   "outputs": [
    {
     "data": {
      "text/html": [
       "<div>\n",
       "<table border=\"1\" class=\"dataframe\">\n",
       "  <thead>\n",
       "    <tr style=\"text-align: right;\">\n",
       "      <th></th>\n",
       "      <th>ERA</th>\n",
       "      <th>R_per_AB</th>\n",
       "    </tr>\n",
       "  </thead>\n",
       "  <tbody>\n",
       "    <tr>\n",
       "      <th>ERA</th>\n",
       "      <td>1.000000</td>\n",
       "      <td>0.529223</td>\n",
       "    </tr>\n",
       "    <tr>\n",
       "      <th>R_per_AB</th>\n",
       "      <td>0.529223</td>\n",
       "      <td>1.000000</td>\n",
       "    </tr>\n",
       "  </tbody>\n",
       "</table>\n",
       "</div>"
      ],
      "text/plain": [
       "               ERA  R_per_AB\n",
       "ERA       1.000000  0.529223\n",
       "R_per_AB  0.529223  1.000000"
      ]
     },
     "execution_count": 310,
     "metadata": {},
     "output_type": "execute_result"
    }
   ],
   "source": [
    "#  Use Pandas corr function to get Pearson's r correlation\n",
    "pearsons_r(df_ERA_R_AB, 1871, 2014)"
   ]
  },
  {
   "cell_type": "markdown",
   "metadata": {},
   "source": [
    "Pearson's R show they are somewhat correlated at 0.52.\n",
    "\n",
    "However, the scatter plot shows the correlations from 1871 through ~ 1910 have an offset which may be weaking the correlation.  Let's separate these date ranges.\n"
   ]
  },
  {
   "cell_type": "code",
   "execution_count": 299,
   "metadata": {
    "collapsed": false
   },
   "outputs": [
    {
     "data": {
      "image/png": "[encoded data removed]",
      "text/plain": [
       "<matplotlib.figure.Figure at 0x9efe710>"
      ]
     },
     "metadata": {},
     "output_type": "display_data"
    }
   ],
   "source": [
    "plot_scatter(df_ERA_R_AB, 7.0, 0.2, 1871, 1910)"
   ]
  },
  {
   "cell_type": "code",
   "execution_count": 327,
   "metadata": {
    "collapsed": false
   },
   "outputs": [
    {
     "data": {
      "text/html": [
       "<div>\n",
       "<table border=\"1\" class=\"dataframe\">\n",
       "  <thead>\n",
       "    <tr style=\"text-align: right;\">\n",
       "      <th></th>\n",
       "      <th>ERA</th>\n",
       "      <th>R_per_AB</th>\n",
       "    </tr>\n",
       "  </thead>\n",
       "  <tbody>\n",
       "    <tr>\n",
       "      <th>ERA</th>\n",
       "      <td>1.000000</td>\n",
       "      <td>0.631948</td>\n",
       "    </tr>\n",
       "    <tr>\n",
       "      <th>R_per_AB</th>\n",
       "      <td>0.631948</td>\n",
       "      <td>1.000000</td>\n",
       "    </tr>\n",
       "  </tbody>\n",
       "</table>\n",
       "</div>"
      ],
      "text/plain": [
       "               ERA  R_per_AB\n",
       "ERA       1.000000  0.631948\n",
       "R_per_AB  0.631948  1.000000"
      ]
     },
     "execution_count": 327,
     "metadata": {},
     "output_type": "execute_result"
    }
   ],
   "source": [
    "pearsons_r(df_ERA_R_AB, 1871, 1910)"
   ]
  },
  {
   "cell_type": "code",
   "execution_count": 328,
   "metadata": {
    "collapsed": false
   },
   "outputs": [
    {
     "data": {
      "image/png": "[encoded data removed]",
      "text/plain": [
       "<matplotlib.figure.Figure at 0xebca278>"
      ]
     },
     "metadata": {},
     "output_type": "display_data"
    }
   ],
   "source": [
    "plot_scatter(df_ERA_R_AB, 7.0, 0.2, 1911, 2014)"
   ]
  },
  {
   "cell_type": "code",
   "execution_count": 329,
   "metadata": {
    "collapsed": false
   },
   "outputs": [
    {
     "data": {
      "text/html": [
       "<div>\n",
       "<table border=\"1\" class=\"dataframe\">\n",
       "  <thead>\n",
       "    <tr style=\"text-align: right;\">\n",
       "      <th></th>\n",
       "      <th>ERA</th>\n",
       "      <th>R_per_AB</th>\n",
       "    </tr>\n",
       "  </thead>\n",
       "  <tbody>\n",
       "    <tr>\n",
       "      <th>ERA</th>\n",
       "      <td>1.000000</td>\n",
       "      <td>0.831108</td>\n",
       "    </tr>\n",
       "    <tr>\n",
       "      <th>R_per_AB</th>\n",
       "      <td>0.831108</td>\n",
       "      <td>1.000000</td>\n",
       "    </tr>\n",
       "  </tbody>\n",
       "</table>\n",
       "</div>"
      ],
      "text/plain": [
       "               ERA  R_per_AB\n",
       "ERA       1.000000  0.831108\n",
       "R_per_AB  0.831108  1.000000"
      ]
     },
     "execution_count": 329,
     "metadata": {},
     "output_type": "execute_result"
    }
   ],
   "source": [
    "pearsons_r(df_ERA_R_AB, 1911, 2014)"
   ]
  },
  {
   "cell_type": "markdown",
   "metadata": {},
   "source": [
    "As you can see, by splitting the analysis from (1871 - 1910) and (1911 - 2014) the correlations have increased. I will let others who are more knowledgble with baseball explain what happened to Baseball ~ 1910 to change Pitching / Hitting dynamics."
   ]
  }
 ],
 "metadata": {
  "kernelspec": {
   "display_name": "Python 2",
   "language": "python",
   "name": "python2"
  },
  "language_info": {
   "codemirror_mode": {
    "name": "ipython",
    "version": 2
   },
   "file_extension": ".py",
   "mimetype": "text/x-python",
   "name": "python",
   "nbconvert_exporter": "python",
   "pygments_lexer": "ipython2",
   "version": "2.7.12"
  }
 },
 "nbformat": 4,
 "nbformat_minor": 0
}
